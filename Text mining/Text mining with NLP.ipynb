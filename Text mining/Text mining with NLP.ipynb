{
 "cells": [
  {
   "cell_type": "code",
   "execution_count": 1,
   "metadata": {},
   "outputs": [
    {
     "name": "stderr",
     "output_type": "stream",
     "text": [
      "D:\\Users\\Lenovo\\Anaconda3\\lib\\site-packages\\statsmodels\\tools\\_testing.py:19: FutureWarning: pandas.util.testing is deprecated. Use the functions in the public API at pandas.testing instead.\n",
      "  import pandas.util.testing as tm\n"
     ]
    }
   ],
   "source": [
    "import pandas as pd\n",
    "import numpy as np\n",
    "import nltk\n",
    "import os\n",
    "import nltk.corpus\n",
    "from nltk.tokenize import word_tokenize\n",
    "import matplotlib.pyplot as plt\n",
    "import seaborn as sns"
   ]
  },
  {
   "cell_type": "code",
   "execution_count": 2,
   "metadata": {},
   "outputs": [],
   "source": [
    "df = pd.read_excel(\"Data Wrangling.xlsx\")\n",
    "data = df[['AB']]\n",
    "data = data.fillna('-')"
   ]
  },
  {
   "cell_type": "code",
   "execution_count": 3,
   "metadata": {},
   "outputs": [],
   "source": [
    "import re\n",
    "data['processed_AB'] = data['AB'].map(lambda x: re.sub('[,\\.!?]', '', x))\n",
    "data['processed_AB'] = data['processed_AB'].map(lambda x: x.lower())"
   ]
  },
  {
   "cell_type": "code",
   "execution_count": 4,
   "metadata": {},
   "outputs": [],
   "source": [
    "from nltk.stem import WordNetLemmatizer\n",
    "from nltk.corpus import stopwords\n",
    "stopwords = set(stopwords.words('english'))\n",
    "lemmatizer = WordNetLemmatizer()\n",
    "cleaned_list = []\n",
    "\n",
    "for X in data['processed_AB']:\n",
    "    \n",
    "    token = word_tokenize(X)\n",
    "\n",
    "    lemmatized = []\n",
    "    for i in token:\n",
    "        lemmatized.append(lemmatizer.lemmatize(i))\n",
    "\n",
    "    lemmatized = list(set(lemmatized))\n",
    "\n",
    "    clean_words = [x for x in lemmatized if x not in stopwords]\n",
    "    cleaned_list.append(\" \".join(clean_words))\n"
   ]
  },
  {
   "cell_type": "code",
   "execution_count": 5,
   "metadata": {},
   "outputs": [],
   "source": [
    "data['cleaned_AB'] = cleaned_list"
   ]
  },
  {
   "cell_type": "code",
   "execution_count": 6,
   "metadata": {},
   "outputs": [
    {
     "name": "stdout",
     "output_type": "stream",
     "text": [
      "THE TOP 10 WORDS FOR TOPIC #0\n",
      "['francis', 'taylor', 'ha', 'group', 'paper', 'industry', 'technology', 'study', 'literature', 'research']\n",
      "\n",
      "\n",
      "THE TOP 10 WORDS FOR TOPIC #1\n",
      "['2019', 'decision', 'elsevier', 'model', 'algorithm', 'ha', 'different', 'paper', 'based', 'result']\n",
      "\n",
      "\n",
      "THE TOP 10 WORDS FOR TOPIC #2\n",
      "['study', 'francis', 'taylor', 'manufacturing', '2019', 'paper', 'industry', 'research', 'data', 'technology']\n",
      "\n",
      "\n",
      "THE TOP 10 WORDS FOR TOPIC #3\n",
      "['data', 'performance', 'network', 'elsevier', 'time', 'result', 'model', 'based', 'paper', 'proposed']\n",
      "\n",
      "\n",
      "THE TOP 10 WORDS FOR TOPIC #4\n",
      "['ha', 'business', 'study', 'information', 'paper', 'thing', 'iot', 'data', 'internet', 'based']\n",
      "\n",
      "\n"
     ]
    }
   ],
   "source": [
    "from sklearn.feature_extraction.text import CountVectorizer\n",
    "\n",
    "from sklearn.feature_extraction.text import CountVectorizer\n",
    "cv = CountVectorizer(max_df=0.95, min_df=2, stop_words='english')\n",
    "\n",
    "from sklearn.decomposition import LatentDirichletAllocation\n",
    "LDA = LatentDirichletAllocation(n_components=5,random_state=42)\n",
    "\n",
    "data_new = data['cleaned_AB']\n",
    "data = data.fillna('-')\n",
    "\n",
    "dtm = cv.fit_transform(data_new)\n",
    "LDA.fit(dtm)\n",
    "\n",
    "for index,topic in enumerate(LDA.components_):\n",
    "    print(f'THE TOP 10 WORDS FOR TOPIC #{index}')\n",
    "    print([cv.get_feature_names()[i] for i in topic.argsort()[-10:]])\n",
    "    print('\\n')\n",
    "\n",
    "topic_results = LDA.transform(dtm)\n",
    "argmax_list = topic_results.argmax(axis=1)\n",
    "data[\"Category_AB\"] = argmax_list"
   ]
  },
  {
   "cell_type": "code",
   "execution_count": 7,
   "metadata": {},
   "outputs": [],
   "source": [
    "data_ID = df['ID']\n",
    "data_AU = df['AU']\n",
    "data_DE = df['DE']\n",
    "\n",
    "data_ID =data_ID.fillna('-')\n",
    "data_AU =data_AU.fillna('-')\n",
    "data_DE =data_DE.fillna('-')"
   ]
  },
  {
   "cell_type": "code",
   "execution_count": 8,
   "metadata": {},
   "outputs": [],
   "source": [
    "def split(X):\n",
    "    split_list=[]\n",
    "    for i in X:\n",
    "        split = i.split(';')\n",
    "        split_list.append(split)\n",
    "    return split_list"
   ]
  },
  {
   "cell_type": "code",
   "execution_count": 9,
   "metadata": {},
   "outputs": [],
   "source": [
    "data['ID'] = split(data_ID)\n",
    "data['AU'] = split(data_AU)\n",
    "data['DE'] = split(data_DE)"
   ]
  },
  {
   "cell_type": "code",
   "execution_count": 10,
   "metadata": {},
   "outputs": [],
   "source": [
    "data['SO'] = df['SO']\n",
    "data['Year'] = df['PY']"
   ]
  },
  {
   "cell_type": "code",
   "execution_count": 11,
   "metadata": {},
   "outputs": [
    {
     "data": {
      "text/html": [
       "<div>\n",
       "<style scoped>\n",
       "    .dataframe tbody tr th:only-of-type {\n",
       "        vertical-align: middle;\n",
       "    }\n",
       "\n",
       "    .dataframe tbody tr th {\n",
       "        vertical-align: top;\n",
       "    }\n",
       "\n",
       "    .dataframe thead th {\n",
       "        text-align: right;\n",
       "    }\n",
       "</style>\n",
       "<table border=\"1\" class=\"dataframe\">\n",
       "  <thead>\n",
       "    <tr style=\"text-align: right;\">\n",
       "      <th></th>\n",
       "      <th>AB</th>\n",
       "      <th>processed_AB</th>\n",
       "      <th>cleaned_AB</th>\n",
       "      <th>Category_AB</th>\n",
       "      <th>ID</th>\n",
       "      <th>AU</th>\n",
       "      <th>DE</th>\n",
       "      <th>SO</th>\n",
       "      <th>Year</th>\n",
       "    </tr>\n",
       "  </thead>\n",
       "  <tbody>\n",
       "    <tr>\n",
       "      <th>0</th>\n",
       "      <td>THE EXPLOSION OF REUSABLE WEB SERVICES (E.G., ...</td>\n",
       "      <td>the explosion of reusable web services (eg ope...</td>\n",
       "      <td>open degree source conducting effort precision...</td>\n",
       "      <td>3</td>\n",
       "      <td>[APPLICATION PROGRAMMING INTERFACES (API),  CO...</td>\n",
       "      <td>[BOTANGEN KA, YU J, SHENG QZ, HAN Y, YONGCHARE...</td>\n",
       "      <td>[IMPLICIT FEEDBACK,  LOCATION,  MATRIX FACTORI...</td>\n",
       "      <td>EXPERT SYSTEMS WITH APPLICATIONS</td>\n",
       "      <td>2020</td>\n",
       "    </tr>\n",
       "    <tr>\n",
       "      <th>1</th>\n",
       "      <td>THE INTERNET OF THINGS (IOT) IS GROWING GLOBAL...</td>\n",
       "      <td>the internet of things (iot) is growing global...</td>\n",
       "      <td>algorithm ability healthcare malware satisfact...</td>\n",
       "      <td>4</td>\n",
       "      <td>[AUTOMATIC PROGRAMMING,  BEHAVIORAL RESEARCH, ...</td>\n",
       "      <td>[ROLDN J, BOUBETA-PUIG J, LUIS MARTNEZ J, ORTI...</td>\n",
       "      <td>[COMPLEX EVENT PROCESSING,  INTELLIGENT DECISI...</td>\n",
       "      <td>EXPERT SYSTEMS WITH APPLICATIONS</td>\n",
       "      <td>2020</td>\n",
       "    </tr>\n",
       "    <tr>\n",
       "      <th>2</th>\n",
       "      <td>WITH THE DEVELOPMENT OF LOCATION-AWARE TECHNOL...</td>\n",
       "      <td>with the development of location-aware technol...</td>\n",
       "      <td>algorithm open mining trajectory clustering en...</td>\n",
       "      <td>3</td>\n",
       "      <td>[CLUSTER ANALYSIS,  CLUSTERING ALGORITHMS,  DA...</td>\n",
       "      <td>[ZHAO X, PI D, CHEN J]</td>\n",
       "      <td>[CLUSTER ANALYSIS,  DIFFERENTIAL PRIVACY,  PRI...</td>\n",
       "      <td>EXPERT SYSTEMS WITH APPLICATIONS</td>\n",
       "      <td>2020</td>\n",
       "    </tr>\n",
       "    <tr>\n",
       "      <th>3</th>\n",
       "      <td>ALTHOUGH GOVERNMENT APPLICATIONS (APPS) HAVE D...</td>\n",
       "      <td>although government applications (apps) have d...</td>\n",
       "      <td>chengdu degree conducting consequence level tr...</td>\n",
       "      <td>0</td>\n",
       "      <td>[HUMAN COMPUTER INTERACTION,  CHENGDU,  CITIZE...</td>\n",
       "      <td>[WANG G, CHEN Q, XU Z, LENG X]</td>\n",
       "      <td>[CITIZEN COMPLIANCE,  GOVERNMENT APP,  GOVERNM...</td>\n",
       "      <td>COMPUTERS IN HUMAN BEHAVIOR</td>\n",
       "      <td>2020</td>\n",
       "    </tr>\n",
       "    <tr>\n",
       "      <th>4</th>\n",
       "      <td>FEATURE SELECTION PLAYS A VITAL ROLE IN BUILDI...</td>\n",
       "      <td>feature selection plays a vital role in buildi...</td>\n",
       "      <td>algorithm nls-kdd way vital faster outperforme...</td>\n",
       "      <td>3</td>\n",
       "      <td>[COMPUTER CRIME,  INTRUSION DETECTION,  NETWOR...</td>\n",
       "      <td>[ALAZZAM H, SHARIEH A, SABRI KE]</td>\n",
       "      <td>[FEATURE SELECTION,  INTRUSION DETECTION SYSTE...</td>\n",
       "      <td>EXPERT SYSTEMS WITH APPLICATIONS</td>\n",
       "      <td>2020</td>\n",
       "    </tr>\n",
       "    <tr>\n",
       "      <th>...</th>\n",
       "      <td>...</td>\n",
       "      <td>...</td>\n",
       "      <td>...</td>\n",
       "      <td>...</td>\n",
       "      <td>...</td>\n",
       "      <td>...</td>\n",
       "      <td>...</td>\n",
       "      <td>...</td>\n",
       "      <td>...</td>\n",
       "    </tr>\n",
       "    <tr>\n",
       "      <th>514</th>\n",
       "      <td>RFID HAS EMERGED AS A POTENTIAL TOOL TO COMBAT...</td>\n",
       "      <td>rfid has emerged as a potential tool to combat...</td>\n",
       "      <td>drop ensure production vital purpose tagging g...</td>\n",
       "      <td>4</td>\n",
       "      <td>[ANTI-COUNTERFEITING,  MOVING SPEED,  PRODUCT ...</td>\n",
       "      <td>[CHEUNG HH, CHOI SH]</td>\n",
       "      <td>[ANTI-COUNTERFEITING,  CRITICAL TAG MOVING SPE...</td>\n",
       "      <td>COMPUTERS IN INDUSTRY</td>\n",
       "      <td>2011</td>\n",
       "    </tr>\n",
       "    <tr>\n",
       "      <th>515</th>\n",
       "      <td>MODERN INFORMATION RETRIEVAL (IR) SYSTEMS CONS...</td>\n",
       "      <td>modern information retrieval (ir) systems cons...</td>\n",
       "      <td>collection clustering biological nowadays text...</td>\n",
       "      <td>3</td>\n",
       "      <td>[EXTRACTIVE SUMMARIZATIONS,  FUZZY EVOLUTIONAR...</td>\n",
       "      <td>[SONG W, CHEON CHOI L, CHEOL PARK S, FENG DING X]</td>\n",
       "      <td>[EXTRACTIVE SUMMARIZATION,  FUZZY EVOLUTIONARY...</td>\n",
       "      <td>EXPERT SYSTEMS WITH APPLICATIONS</td>\n",
       "      <td>2011</td>\n",
       "    </tr>\n",
       "    <tr>\n",
       "      <th>516</th>\n",
       "      <td>ADVANCES IN PRODUCTION PLANNING AND CONTROL IN...</td>\n",
       "      <td>advances in production planning and control in...</td>\n",
       "      <td>decade focused function feasible production so...</td>\n",
       "      <td>3</td>\n",
       "      <td>[DECENTRALISED,  DISTURBANCES,  INTELLIGENT PR...</td>\n",
       "      <td>[MEYER GG, HANS WORTMANN JC, SZIRBIK NB]</td>\n",
       "      <td>[DISTURBANCES,  INTELLIGENT PRODUCTS,  MONITOR...</td>\n",
       "      <td>INTERNATIONAL JOURNAL OF PRODUCTION RESEARCH</td>\n",
       "      <td>2011</td>\n",
       "    </tr>\n",
       "    <tr>\n",
       "      <th>517</th>\n",
       "      <td>AS QUALITY REQUIREMENTS PLAY A CRUCIAL ROLE IN...</td>\n",
       "      <td>as quality requirements play a crucial role in...</td>\n",
       "      <td>analyse breakthrough quality objective year se...</td>\n",
       "      <td>4</td>\n",
       "      <td>[ENTERPRISE INFORMATION SYSTEM,  INTERNET OF T...</td>\n",
       "      <td>[XU LD]</td>\n",
       "      <td>[AGENT,  ENTERPRISE INFORMATION SYSTEMS,  INTE...</td>\n",
       "      <td>INTERNATIONAL JOURNAL OF PRODUCTION RESEARCH</td>\n",
       "      <td>2011</td>\n",
       "    </tr>\n",
       "    <tr>\n",
       "      <th>518</th>\n",
       "      <td>THE PAPER CONTAINS AN OVERVIEW OF UNIQUE IDENT...</td>\n",
       "      <td>the paper contains an overview of unique ident...</td>\n",
       "      <td>discussed -options specific confidentiality pa...</td>\n",
       "      <td>4</td>\n",
       "      <td>[AUTOMATION,  DATA TRANSFER,  SUPPLY CHAINS,  ...</td>\n",
       "      <td>[ILIE-ZUDOR E, KEMNY Z, VAN BLOMMESTEIN F, MON...</td>\n",
       "      <td>[AUTOMATIC IDENTIFICATION,  DATA TRANSFER,  ID...</td>\n",
       "      <td>COMPUTERS IN INDUSTRY</td>\n",
       "      <td>2011</td>\n",
       "    </tr>\n",
       "  </tbody>\n",
       "</table>\n",
       "<p>519 rows × 9 columns</p>\n",
       "</div>"
      ],
      "text/plain": [
       "                                                    AB  \\\n",
       "0    THE EXPLOSION OF REUSABLE WEB SERVICES (E.G., ...   \n",
       "1    THE INTERNET OF THINGS (IOT) IS GROWING GLOBAL...   \n",
       "2    WITH THE DEVELOPMENT OF LOCATION-AWARE TECHNOL...   \n",
       "3    ALTHOUGH GOVERNMENT APPLICATIONS (APPS) HAVE D...   \n",
       "4    FEATURE SELECTION PLAYS A VITAL ROLE IN BUILDI...   \n",
       "..                                                 ...   \n",
       "514  RFID HAS EMERGED AS A POTENTIAL TOOL TO COMBAT...   \n",
       "515  MODERN INFORMATION RETRIEVAL (IR) SYSTEMS CONS...   \n",
       "516  ADVANCES IN PRODUCTION PLANNING AND CONTROL IN...   \n",
       "517  AS QUALITY REQUIREMENTS PLAY A CRUCIAL ROLE IN...   \n",
       "518  THE PAPER CONTAINS AN OVERVIEW OF UNIQUE IDENT...   \n",
       "\n",
       "                                          processed_AB  \\\n",
       "0    the explosion of reusable web services (eg ope...   \n",
       "1    the internet of things (iot) is growing global...   \n",
       "2    with the development of location-aware technol...   \n",
       "3    although government applications (apps) have d...   \n",
       "4    feature selection plays a vital role in buildi...   \n",
       "..                                                 ...   \n",
       "514  rfid has emerged as a potential tool to combat...   \n",
       "515  modern information retrieval (ir) systems cons...   \n",
       "516  advances in production planning and control in...   \n",
       "517  as quality requirements play a crucial role in...   \n",
       "518  the paper contains an overview of unique ident...   \n",
       "\n",
       "                                            cleaned_AB  Category_AB  \\\n",
       "0    open degree source conducting effort precision...            3   \n",
       "1    algorithm ability healthcare malware satisfact...            4   \n",
       "2    algorithm open mining trajectory clustering en...            3   \n",
       "3    chengdu degree conducting consequence level tr...            0   \n",
       "4    algorithm nls-kdd way vital faster outperforme...            3   \n",
       "..                                                 ...          ...   \n",
       "514  drop ensure production vital purpose tagging g...            4   \n",
       "515  collection clustering biological nowadays text...            3   \n",
       "516  decade focused function feasible production so...            3   \n",
       "517  analyse breakthrough quality objective year se...            4   \n",
       "518  discussed -options specific confidentiality pa...            4   \n",
       "\n",
       "                                                    ID  \\\n",
       "0    [APPLICATION PROGRAMMING INTERFACES (API),  CO...   \n",
       "1    [AUTOMATIC PROGRAMMING,  BEHAVIORAL RESEARCH, ...   \n",
       "2    [CLUSTER ANALYSIS,  CLUSTERING ALGORITHMS,  DA...   \n",
       "3    [HUMAN COMPUTER INTERACTION,  CHENGDU,  CITIZE...   \n",
       "4    [COMPUTER CRIME,  INTRUSION DETECTION,  NETWOR...   \n",
       "..                                                 ...   \n",
       "514  [ANTI-COUNTERFEITING,  MOVING SPEED,  PRODUCT ...   \n",
       "515  [EXTRACTIVE SUMMARIZATIONS,  FUZZY EVOLUTIONAR...   \n",
       "516  [DECENTRALISED,  DISTURBANCES,  INTELLIGENT PR...   \n",
       "517  [ENTERPRISE INFORMATION SYSTEM,  INTERNET OF T...   \n",
       "518  [AUTOMATION,  DATA TRANSFER,  SUPPLY CHAINS,  ...   \n",
       "\n",
       "                                                    AU  \\\n",
       "0    [BOTANGEN KA, YU J, SHENG QZ, HAN Y, YONGCHARE...   \n",
       "1    [ROLDN J, BOUBETA-PUIG J, LUIS MARTNEZ J, ORTI...   \n",
       "2                               [ZHAO X, PI D, CHEN J]   \n",
       "3                       [WANG G, CHEN Q, XU Z, LENG X]   \n",
       "4                     [ALAZZAM H, SHARIEH A, SABRI KE]   \n",
       "..                                                 ...   \n",
       "514                               [CHEUNG HH, CHOI SH]   \n",
       "515  [SONG W, CHEON CHOI L, CHEOL PARK S, FENG DING X]   \n",
       "516           [MEYER GG, HANS WORTMANN JC, SZIRBIK NB]   \n",
       "517                                            [XU LD]   \n",
       "518  [ILIE-ZUDOR E, KEMNY Z, VAN BLOMMESTEIN F, MON...   \n",
       "\n",
       "                                                    DE  \\\n",
       "0    [IMPLICIT FEEDBACK,  LOCATION,  MATRIX FACTORI...   \n",
       "1    [COMPLEX EVENT PROCESSING,  INTELLIGENT DECISI...   \n",
       "2    [CLUSTER ANALYSIS,  DIFFERENTIAL PRIVACY,  PRI...   \n",
       "3    [CITIZEN COMPLIANCE,  GOVERNMENT APP,  GOVERNM...   \n",
       "4    [FEATURE SELECTION,  INTRUSION DETECTION SYSTE...   \n",
       "..                                                 ...   \n",
       "514  [ANTI-COUNTERFEITING,  CRITICAL TAG MOVING SPE...   \n",
       "515  [EXTRACTIVE SUMMARIZATION,  FUZZY EVOLUTIONARY...   \n",
       "516  [DISTURBANCES,  INTELLIGENT PRODUCTS,  MONITOR...   \n",
       "517  [AGENT,  ENTERPRISE INFORMATION SYSTEMS,  INTE...   \n",
       "518  [AUTOMATIC IDENTIFICATION,  DATA TRANSFER,  ID...   \n",
       "\n",
       "                                               SO  Year  \n",
       "0                EXPERT SYSTEMS WITH APPLICATIONS  2020  \n",
       "1                EXPERT SYSTEMS WITH APPLICATIONS  2020  \n",
       "2                EXPERT SYSTEMS WITH APPLICATIONS  2020  \n",
       "3                     COMPUTERS IN HUMAN BEHAVIOR  2020  \n",
       "4                EXPERT SYSTEMS WITH APPLICATIONS  2020  \n",
       "..                                            ...   ...  \n",
       "514                         COMPUTERS IN INDUSTRY  2011  \n",
       "515              EXPERT SYSTEMS WITH APPLICATIONS  2011  \n",
       "516  INTERNATIONAL JOURNAL OF PRODUCTION RESEARCH  2011  \n",
       "517  INTERNATIONAL JOURNAL OF PRODUCTION RESEARCH  2011  \n",
       "518                         COMPUTERS IN INDUSTRY  2011  \n",
       "\n",
       "[519 rows x 9 columns]"
      ]
     },
     "execution_count": 11,
     "metadata": {},
     "output_type": "execute_result"
    }
   ],
   "source": [
    "data"
   ]
  },
  {
   "cell_type": "code",
   "execution_count": null,
   "metadata": {},
   "outputs": [],
   "source": []
  },
  {
   "cell_type": "code",
   "execution_count": 12,
   "metadata": {},
   "outputs": [
    {
     "data": {
      "image/png": "[encoded data removed]",
      "text/plain": [
       "<Figure size 720x720 with 1 Axes>"
      ]
     },
     "metadata": {
      "needs_background": "light"
     },
     "output_type": "display_data"
    }
   ],
   "source": [
    "plt.rcParams[\"figure.figsize\"] = (10,10)\n",
    "sns.countplot(data = data, y= 'SO',order=data['SO'].value_counts().iloc[:5].index,hue='Year')\n",
    "plt.xlabel('Count')\n",
    "plt.ylabel('Journals')\n",
    "plt.show()"
   ]
  },
  {
   "cell_type": "code",
   "execution_count": null,
   "metadata": {},
   "outputs": [],
   "source": []
  },
  {
   "cell_type": "code",
   "execution_count": 13,
   "metadata": {},
   "outputs": [],
   "source": [
    "list_DE = []\n",
    "for i in data['DE']:\n",
    "    list_DE.extend(i)\n",
    "    list_DE = [x.strip(' ') for x in list_DE]"
   ]
  },
  {
   "cell_type": "code",
   "execution_count": 14,
   "metadata": {},
   "outputs": [],
   "source": [
    "df_DE = pd.DataFrame(list_DE)"
   ]
  },
  {
   "cell_type": "code",
   "execution_count": 15,
   "metadata": {},
   "outputs": [
    {
     "data": {
      "text/plain": [
       "INTERNET OF THINGS          92\n",
       "INDUSTRY 4.0                55\n",
       "INTERNET OF THINGS (IOT)    37\n",
       "BIG DATA                    32\n",
       "IOT                         21\n",
       "BLOCKCHAIN                  19\n",
       "CYBER-PHYSICAL SYSTEMS      18\n",
       "SUPPLY CHAIN MANAGEMENT     17\n",
       "RFID                        16\n",
       "SMART MANUFACTURING         16\n",
       "Name: 0, dtype: int64"
      ]
     },
     "execution_count": 15,
     "metadata": {},
     "output_type": "execute_result"
    }
   ],
   "source": [
    "df_DE[0].value_counts().iloc[:10]"
   ]
  },
  {
   "cell_type": "code",
   "execution_count": 16,
   "metadata": {},
   "outputs": [
    {
     "data": {
      "image/png": "[encoded data removed]",
      "text/plain": [
       "<Figure size 720x720 with 1 Axes>"
      ]
     },
     "metadata": {
      "needs_background": "light"
     },
     "output_type": "display_data"
    }
   ],
   "source": [
    "plt.rcParams[\"figure.figsize\"] = (10,10)\n",
    "sns.countplot(data = df_DE, y= 0,order=df_DE[0].value_counts().iloc[:10].index)\n",
    "plt.xlabel('Count')\n",
    "plt.ylabel('Fiels of Study')\n",
    "plt.show()"
   ]
  },
  {
   "cell_type": "code",
   "execution_count": null,
   "metadata": {},
   "outputs": [],
   "source": []
  },
  {
   "cell_type": "code",
   "execution_count": 17,
   "metadata": {},
   "outputs": [],
   "source": [
    "list_AU = []\n",
    "for i in data['AU']:\n",
    "    list_AU.extend(i)\n",
    "    list_AU = [x.strip(' ') for x in list_AU]"
   ]
  },
  {
   "cell_type": "code",
   "execution_count": 18,
   "metadata": {},
   "outputs": [],
   "source": [
    "df_AU = pd.DataFrame(list_AU)"
   ]
  },
  {
   "cell_type": "code",
   "execution_count": 19,
   "metadata": {},
   "outputs": [
    {
     "data": {
      "text/plain": [
       "LU R             14\n",
       "WU ZG            11\n",
       "ZHANG Y          11\n",
       "GUNASEKARAN A    10\n",
       "SU H              9\n",
       "XU X              9\n",
       "SHI P             7\n",
       "XU Y              7\n",
       "HUANG GQ          7\n",
       "LI Z              7\n",
       "Name: 0, dtype: int64"
      ]
     },
     "execution_count": 19,
     "metadata": {},
     "output_type": "execute_result"
    }
   ],
   "source": [
    "df_AU[0].value_counts().iloc[:10]"
   ]
  },
  {
   "cell_type": "code",
   "execution_count": 20,
   "metadata": {},
   "outputs": [
    {
     "data": {
      "image/png": "[encoded data removed]",
      "text/plain": [
       "<Figure size 720x720 with 1 Axes>"
      ]
     },
     "metadata": {
      "needs_background": "light"
     },
     "output_type": "display_data"
    }
   ],
   "source": [
    "plt.rcParams[\"figure.figsize\"] = (10,10)\n",
    "sns.countplot(data = df_AU, y= 0,order=df_AU[0].value_counts().iloc[:10].index)\n",
    "plt.xlabel('Count')\n",
    "plt.ylabel('Author')\n",
    "plt.show()"
   ]
  },
  {
   "cell_type": "code",
   "execution_count": null,
   "metadata": {},
   "outputs": [],
   "source": []
  },
  {
   "cell_type": "code",
   "execution_count": 21,
   "metadata": {},
   "outputs": [],
   "source": [
    "year_data = data.groupby('Year').count().iloc[:,1]"
   ]
  },
  {
   "cell_type": "code",
   "execution_count": 22,
   "metadata": {},
   "outputs": [
    {
     "data": {
      "image/png": "[encoded data removed]",
      "text/plain": [
       "<Figure size 1440x576 with 1 Axes>"
      ]
     },
     "metadata": {
      "needs_background": "light"
     },
     "output_type": "display_data"
    }
   ],
   "source": [
    "plt.rcParams[\"figure.figsize\"] = (20,8)\n",
    "plt.plot(year_data)\n",
    "plt.xlabel('Year')\n",
    "plt.ylabel('No of Articles')\n",
    "plt.show()"
   ]
  },
  {
   "cell_type": "code",
   "execution_count": null,
   "metadata": {},
   "outputs": [],
   "source": []
  },
  {
   "cell_type": "code",
   "execution_count": 23,
   "metadata": {},
   "outputs": [],
   "source": [
    "so_data = data.groupby(['Year']).count().iloc[:,1]"
   ]
  },
  {
   "cell_type": "code",
   "execution_count": 24,
   "metadata": {},
   "outputs": [
    {
     "data": {
      "text/plain": [
       "Year\n",
       "2019    173\n",
       "2018    106\n",
       "2020     94\n",
       "2017     60\n",
       "2015     30\n",
       "2016     29\n",
       "2014     16\n",
       "2011      7\n",
       "2013      3\n",
       "2012      1\n",
       "Name: processed_AB, dtype: int64"
      ]
     },
     "execution_count": 24,
     "metadata": {},
     "output_type": "execute_result"
    }
   ],
   "source": [
    "so_data.sort_values(ascending=False)"
   ]
  },
  {
   "cell_type": "code",
   "execution_count": null,
   "metadata": {},
   "outputs": [],
   "source": []
  },
  {
   "cell_type": "code",
   "execution_count": 25,
   "metadata": {},
   "outputs": [
    {
     "data": {
      "text/html": [
       "<div>\n",
       "<style scoped>\n",
       "    .dataframe tbody tr th:only-of-type {\n",
       "        vertical-align: middle;\n",
       "    }\n",
       "\n",
       "    .dataframe tbody tr th {\n",
       "        vertical-align: top;\n",
       "    }\n",
       "\n",
       "    .dataframe thead th {\n",
       "        text-align: right;\n",
       "    }\n",
       "</style>\n",
       "<table border=\"1\" class=\"dataframe\">\n",
       "  <thead>\n",
       "    <tr style=\"text-align: right;\">\n",
       "      <th></th>\n",
       "      <th>AB</th>\n",
       "      <th>processed_AB</th>\n",
       "      <th>cleaned_AB</th>\n",
       "      <th>Category_AB</th>\n",
       "      <th>ID</th>\n",
       "      <th>AU</th>\n",
       "      <th>DE</th>\n",
       "      <th>SO</th>\n",
       "      <th>Year</th>\n",
       "    </tr>\n",
       "  </thead>\n",
       "  <tbody>\n",
       "    <tr>\n",
       "      <th>0</th>\n",
       "      <td>THE EXPLOSION OF REUSABLE WEB SERVICES (E.G., ...</td>\n",
       "      <td>the explosion of reusable web services (eg ope...</td>\n",
       "      <td>open degree source conducting effort precision...</td>\n",
       "      <td>3</td>\n",
       "      <td>[APPLICATION PROGRAMMING INTERFACES (API),  CO...</td>\n",
       "      <td>[BOTANGEN KA, YU J, SHENG QZ, HAN Y, YONGCHARE...</td>\n",
       "      <td>[IMPLICIT FEEDBACK,  LOCATION,  MATRIX FACTORI...</td>\n",
       "      <td>EXPERT SYSTEMS WITH APPLICATIONS</td>\n",
       "      <td>2020</td>\n",
       "    </tr>\n",
       "    <tr>\n",
       "      <th>1</th>\n",
       "      <td>THE INTERNET OF THINGS (IOT) IS GROWING GLOBAL...</td>\n",
       "      <td>the internet of things (iot) is growing global...</td>\n",
       "      <td>algorithm ability healthcare malware satisfact...</td>\n",
       "      <td>4</td>\n",
       "      <td>[AUTOMATIC PROGRAMMING,  BEHAVIORAL RESEARCH, ...</td>\n",
       "      <td>[ROLDN J, BOUBETA-PUIG J, LUIS MARTNEZ J, ORTI...</td>\n",
       "      <td>[COMPLEX EVENT PROCESSING,  INTELLIGENT DECISI...</td>\n",
       "      <td>EXPERT SYSTEMS WITH APPLICATIONS</td>\n",
       "      <td>2020</td>\n",
       "    </tr>\n",
       "    <tr>\n",
       "      <th>2</th>\n",
       "      <td>WITH THE DEVELOPMENT OF LOCATION-AWARE TECHNOL...</td>\n",
       "      <td>with the development of location-aware technol...</td>\n",
       "      <td>algorithm open mining trajectory clustering en...</td>\n",
       "      <td>3</td>\n",
       "      <td>[CLUSTER ANALYSIS,  CLUSTERING ALGORITHMS,  DA...</td>\n",
       "      <td>[ZHAO X, PI D, CHEN J]</td>\n",
       "      <td>[CLUSTER ANALYSIS,  DIFFERENTIAL PRIVACY,  PRI...</td>\n",
       "      <td>EXPERT SYSTEMS WITH APPLICATIONS</td>\n",
       "      <td>2020</td>\n",
       "    </tr>\n",
       "    <tr>\n",
       "      <th>3</th>\n",
       "      <td>ALTHOUGH GOVERNMENT APPLICATIONS (APPS) HAVE D...</td>\n",
       "      <td>although government applications (apps) have d...</td>\n",
       "      <td>chengdu degree conducting consequence level tr...</td>\n",
       "      <td>0</td>\n",
       "      <td>[HUMAN COMPUTER INTERACTION,  CHENGDU,  CITIZE...</td>\n",
       "      <td>[WANG G, CHEN Q, XU Z, LENG X]</td>\n",
       "      <td>[CITIZEN COMPLIANCE,  GOVERNMENT APP,  GOVERNM...</td>\n",
       "      <td>COMPUTERS IN HUMAN BEHAVIOR</td>\n",
       "      <td>2020</td>\n",
       "    </tr>\n",
       "    <tr>\n",
       "      <th>4</th>\n",
       "      <td>FEATURE SELECTION PLAYS A VITAL ROLE IN BUILDI...</td>\n",
       "      <td>feature selection plays a vital role in buildi...</td>\n",
       "      <td>algorithm nls-kdd way vital faster outperforme...</td>\n",
       "      <td>3</td>\n",
       "      <td>[COMPUTER CRIME,  INTRUSION DETECTION,  NETWOR...</td>\n",
       "      <td>[ALAZZAM H, SHARIEH A, SABRI KE]</td>\n",
       "      <td>[FEATURE SELECTION,  INTRUSION DETECTION SYSTE...</td>\n",
       "      <td>EXPERT SYSTEMS WITH APPLICATIONS</td>\n",
       "      <td>2020</td>\n",
       "    </tr>\n",
       "    <tr>\n",
       "      <th>...</th>\n",
       "      <td>...</td>\n",
       "      <td>...</td>\n",
       "      <td>...</td>\n",
       "      <td>...</td>\n",
       "      <td>...</td>\n",
       "      <td>...</td>\n",
       "      <td>...</td>\n",
       "      <td>...</td>\n",
       "      <td>...</td>\n",
       "    </tr>\n",
       "    <tr>\n",
       "      <th>514</th>\n",
       "      <td>RFID HAS EMERGED AS A POTENTIAL TOOL TO COMBAT...</td>\n",
       "      <td>rfid has emerged as a potential tool to combat...</td>\n",
       "      <td>drop ensure production vital purpose tagging g...</td>\n",
       "      <td>4</td>\n",
       "      <td>[ANTI-COUNTERFEITING,  MOVING SPEED,  PRODUCT ...</td>\n",
       "      <td>[CHEUNG HH, CHOI SH]</td>\n",
       "      <td>[ANTI-COUNTERFEITING,  CRITICAL TAG MOVING SPE...</td>\n",
       "      <td>COMPUTERS IN INDUSTRY</td>\n",
       "      <td>2011</td>\n",
       "    </tr>\n",
       "    <tr>\n",
       "      <th>515</th>\n",
       "      <td>MODERN INFORMATION RETRIEVAL (IR) SYSTEMS CONS...</td>\n",
       "      <td>modern information retrieval (ir) systems cons...</td>\n",
       "      <td>collection clustering biological nowadays text...</td>\n",
       "      <td>3</td>\n",
       "      <td>[EXTRACTIVE SUMMARIZATIONS,  FUZZY EVOLUTIONAR...</td>\n",
       "      <td>[SONG W, CHEON CHOI L, CHEOL PARK S, FENG DING X]</td>\n",
       "      <td>[EXTRACTIVE SUMMARIZATION,  FUZZY EVOLUTIONARY...</td>\n",
       "      <td>EXPERT SYSTEMS WITH APPLICATIONS</td>\n",
       "      <td>2011</td>\n",
       "    </tr>\n",
       "    <tr>\n",
       "      <th>516</th>\n",
       "      <td>ADVANCES IN PRODUCTION PLANNING AND CONTROL IN...</td>\n",
       "      <td>advances in production planning and control in...</td>\n",
       "      <td>decade focused function feasible production so...</td>\n",
       "      <td>3</td>\n",
       "      <td>[DECENTRALISED,  DISTURBANCES,  INTELLIGENT PR...</td>\n",
       "      <td>[MEYER GG, HANS WORTMANN JC, SZIRBIK NB]</td>\n",
       "      <td>[DISTURBANCES,  INTELLIGENT PRODUCTS,  MONITOR...</td>\n",
       "      <td>INTERNATIONAL JOURNAL OF PRODUCTION RESEARCH</td>\n",
       "      <td>2011</td>\n",
       "    </tr>\n",
       "    <tr>\n",
       "      <th>517</th>\n",
       "      <td>AS QUALITY REQUIREMENTS PLAY A CRUCIAL ROLE IN...</td>\n",
       "      <td>as quality requirements play a crucial role in...</td>\n",
       "      <td>analyse breakthrough quality objective year se...</td>\n",
       "      <td>4</td>\n",
       "      <td>[ENTERPRISE INFORMATION SYSTEM,  INTERNET OF T...</td>\n",
       "      <td>[XU LD]</td>\n",
       "      <td>[AGENT,  ENTERPRISE INFORMATION SYSTEMS,  INTE...</td>\n",
       "      <td>INTERNATIONAL JOURNAL OF PRODUCTION RESEARCH</td>\n",
       "      <td>2011</td>\n",
       "    </tr>\n",
       "    <tr>\n",
       "      <th>518</th>\n",
       "      <td>THE PAPER CONTAINS AN OVERVIEW OF UNIQUE IDENT...</td>\n",
       "      <td>the paper contains an overview of unique ident...</td>\n",
       "      <td>discussed -options specific confidentiality pa...</td>\n",
       "      <td>4</td>\n",
       "      <td>[AUTOMATION,  DATA TRANSFER,  SUPPLY CHAINS,  ...</td>\n",
       "      <td>[ILIE-ZUDOR E, KEMNY Z, VAN BLOMMESTEIN F, MON...</td>\n",
       "      <td>[AUTOMATIC IDENTIFICATION,  DATA TRANSFER,  ID...</td>\n",
       "      <td>COMPUTERS IN INDUSTRY</td>\n",
       "      <td>2011</td>\n",
       "    </tr>\n",
       "  </tbody>\n",
       "</table>\n",
       "<p>519 rows × 9 columns</p>\n",
       "</div>"
      ],
      "text/plain": [
       "                                                    AB  \\\n",
       "0    THE EXPLOSION OF REUSABLE WEB SERVICES (E.G., ...   \n",
       "1    THE INTERNET OF THINGS (IOT) IS GROWING GLOBAL...   \n",
       "2    WITH THE DEVELOPMENT OF LOCATION-AWARE TECHNOL...   \n",
       "3    ALTHOUGH GOVERNMENT APPLICATIONS (APPS) HAVE D...   \n",
       "4    FEATURE SELECTION PLAYS A VITAL ROLE IN BUILDI...   \n",
       "..                                                 ...   \n",
       "514  RFID HAS EMERGED AS A POTENTIAL TOOL TO COMBAT...   \n",
       "515  MODERN INFORMATION RETRIEVAL (IR) SYSTEMS CONS...   \n",
       "516  ADVANCES IN PRODUCTION PLANNING AND CONTROL IN...   \n",
       "517  AS QUALITY REQUIREMENTS PLAY A CRUCIAL ROLE IN...   \n",
       "518  THE PAPER CONTAINS AN OVERVIEW OF UNIQUE IDENT...   \n",
       "\n",
       "                                          processed_AB  \\\n",
       "0    the explosion of reusable web services (eg ope...   \n",
       "1    the internet of things (iot) is growing global...   \n",
       "2    with the development of location-aware technol...   \n",
       "3    although government applications (apps) have d...   \n",
       "4    feature selection plays a vital role in buildi...   \n",
       "..                                                 ...   \n",
       "514  rfid has emerged as a potential tool to combat...   \n",
       "515  modern information retrieval (ir) systems cons...   \n",
       "516  advances in production planning and control in...   \n",
       "517  as quality requirements play a crucial role in...   \n",
       "518  the paper contains an overview of unique ident...   \n",
       "\n",
       "                                            cleaned_AB  Category_AB  \\\n",
       "0    open degree source conducting effort precision...            3   \n",
       "1    algorithm ability healthcare malware satisfact...            4   \n",
       "2    algorithm open mining trajectory clustering en...            3   \n",
       "3    chengdu degree conducting consequence level tr...            0   \n",
       "4    algorithm nls-kdd way vital faster outperforme...            3   \n",
       "..                                                 ...          ...   \n",
       "514  drop ensure production vital purpose tagging g...            4   \n",
       "515  collection clustering biological nowadays text...            3   \n",
       "516  decade focused function feasible production so...            3   \n",
       "517  analyse breakthrough quality objective year se...            4   \n",
       "518  discussed -options specific confidentiality pa...            4   \n",
       "\n",
       "                                                    ID  \\\n",
       "0    [APPLICATION PROGRAMMING INTERFACES (API),  CO...   \n",
       "1    [AUTOMATIC PROGRAMMING,  BEHAVIORAL RESEARCH, ...   \n",
       "2    [CLUSTER ANALYSIS,  CLUSTERING ALGORITHMS,  DA...   \n",
       "3    [HUMAN COMPUTER INTERACTION,  CHENGDU,  CITIZE...   \n",
       "4    [COMPUTER CRIME,  INTRUSION DETECTION,  NETWOR...   \n",
       "..                                                 ...   \n",
       "514  [ANTI-COUNTERFEITING,  MOVING SPEED,  PRODUCT ...   \n",
       "515  [EXTRACTIVE SUMMARIZATIONS,  FUZZY EVOLUTIONAR...   \n",
       "516  [DECENTRALISED,  DISTURBANCES,  INTELLIGENT PR...   \n",
       "517  [ENTERPRISE INFORMATION SYSTEM,  INTERNET OF T...   \n",
       "518  [AUTOMATION,  DATA TRANSFER,  SUPPLY CHAINS,  ...   \n",
       "\n",
       "                                                    AU  \\\n",
       "0    [BOTANGEN KA, YU J, SHENG QZ, HAN Y, YONGCHARE...   \n",
       "1    [ROLDN J, BOUBETA-PUIG J, LUIS MARTNEZ J, ORTI...   \n",
       "2                               [ZHAO X, PI D, CHEN J]   \n",
       "3                       [WANG G, CHEN Q, XU Z, LENG X]   \n",
       "4                     [ALAZZAM H, SHARIEH A, SABRI KE]   \n",
       "..                                                 ...   \n",
       "514                               [CHEUNG HH, CHOI SH]   \n",
       "515  [SONG W, CHEON CHOI L, CHEOL PARK S, FENG DING X]   \n",
       "516           [MEYER GG, HANS WORTMANN JC, SZIRBIK NB]   \n",
       "517                                            [XU LD]   \n",
       "518  [ILIE-ZUDOR E, KEMNY Z, VAN BLOMMESTEIN F, MON...   \n",
       "\n",
       "                                                    DE  \\\n",
       "0    [IMPLICIT FEEDBACK,  LOCATION,  MATRIX FACTORI...   \n",
       "1    [COMPLEX EVENT PROCESSING,  INTELLIGENT DECISI...   \n",
       "2    [CLUSTER ANALYSIS,  DIFFERENTIAL PRIVACY,  PRI...   \n",
       "3    [CITIZEN COMPLIANCE,  GOVERNMENT APP,  GOVERNM...   \n",
       "4    [FEATURE SELECTION,  INTRUSION DETECTION SYSTE...   \n",
       "..                                                 ...   \n",
       "514  [ANTI-COUNTERFEITING,  CRITICAL TAG MOVING SPE...   \n",
       "515  [EXTRACTIVE SUMMARIZATION,  FUZZY EVOLUTIONARY...   \n",
       "516  [DISTURBANCES,  INTELLIGENT PRODUCTS,  MONITOR...   \n",
       "517  [AGENT,  ENTERPRISE INFORMATION SYSTEMS,  INTE...   \n",
       "518  [AUTOMATIC IDENTIFICATION,  DATA TRANSFER,  ID...   \n",
       "\n",
       "                                               SO  Year  \n",
       "0                EXPERT SYSTEMS WITH APPLICATIONS  2020  \n",
       "1                EXPERT SYSTEMS WITH APPLICATIONS  2020  \n",
       "2                EXPERT SYSTEMS WITH APPLICATIONS  2020  \n",
       "3                     COMPUTERS IN HUMAN BEHAVIOR  2020  \n",
       "4                EXPERT SYSTEMS WITH APPLICATIONS  2020  \n",
       "..                                            ...   ...  \n",
       "514                         COMPUTERS IN INDUSTRY  2011  \n",
       "515              EXPERT SYSTEMS WITH APPLICATIONS  2011  \n",
       "516  INTERNATIONAL JOURNAL OF PRODUCTION RESEARCH  2011  \n",
       "517  INTERNATIONAL JOURNAL OF PRODUCTION RESEARCH  2011  \n",
       "518                         COMPUTERS IN INDUSTRY  2011  \n",
       "\n",
       "[519 rows x 9 columns]"
      ]
     },
     "execution_count": 25,
     "metadata": {},
     "output_type": "execute_result"
    }
   ],
   "source": [
    "data"
   ]
  },
  {
   "cell_type": "code",
   "execution_count": null,
   "metadata": {},
   "outputs": [],
   "source": []
  }
 ],
 "metadata": {
  "kernelspec": {
   "display_name": "Python 3",
   "language": "python",
   "name": "python3"
  },
  "language_info": {
   "codemirror_mode": {
    "name": "ipython",
    "version": 3
   },
   "file_extension": ".py",
   "mimetype": "text/x-python",
   "name": "python",
   "nbconvert_exporter": "python",
   "pygments_lexer": "ipython3",
   "version": "3.7.4"
  }
 },
 "nbformat": 4,
 "nbformat_minor": 4
}
