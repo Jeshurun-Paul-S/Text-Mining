{
 "cells": [
  {
   "cell_type": "code",
   "execution_count": 1,
   "metadata": {},
   "outputs": [],
   "source": [
    "import pandas as pd\n",
    "df = pd.read_excel('Data Wrangling - Mr. Bala.xlsx')"
   ]
  },
  {
   "cell_type": "code",
   "execution_count": 2,
   "metadata": {},
   "outputs": [
    {
     "data": {
      "text/html": [
       "<div>\n",
       "<style scoped>\n",
       "    .dataframe tbody tr th:only-of-type {\n",
       "        vertical-align: middle;\n",
       "    }\n",
       "\n",
       "    .dataframe tbody tr th {\n",
       "        vertical-align: top;\n",
       "    }\n",
       "\n",
       "    .dataframe thead th {\n",
       "        text-align: right;\n",
       "    }\n",
       "</style>\n",
       "<table border=\"1\" class=\"dataframe\">\n",
       "  <thead>\n",
       "    <tr style=\"text-align: right;\">\n",
       "      <th></th>\n",
       "      <th>AU</th>\n",
       "      <th>TI</th>\n",
       "      <th>SO</th>\n",
       "      <th>JI</th>\n",
       "      <th>AB</th>\n",
       "      <th>DE</th>\n",
       "      <th>ID</th>\n",
       "      <th>C1</th>\n",
       "      <th>PY</th>\n",
       "      <th>Unnamed: 9</th>\n",
       "      <th>Unnamed: 10</th>\n",
       "      <th>Unnamed: 11</th>\n",
       "    </tr>\n",
       "  </thead>\n",
       "  <tbody>\n",
       "    <tr>\n",
       "      <th>0</th>\n",
       "      <td>BOTANGEN KA;YU J;SHENG QZ;HAN Y;YONGCHAREON S</td>\n",
       "      <td>GEOGRAPHIC-AWARE COLLABORATIVE FILTERING FOR W...</td>\n",
       "      <td>EXPERT SYSTEMS WITH APPLICATIONS</td>\n",
       "      <td>EXPERT SYS APPL</td>\n",
       "      <td>THE EXPLOSION OF REUSABLE WEB SERVICES (E.G., ...</td>\n",
       "      <td>IMPLICIT FEEDBACK; LOCATION; MATRIX FACTORIZAT...</td>\n",
       "      <td>APPLICATION PROGRAMMING INTERFACES (API); COLL...</td>\n",
       "      <td>DEPARTMENT OF COMPUTER SCIENCE, AUCKLAND UNIVE...</td>\n",
       "      <td>2020</td>\n",
       "      <td>NaN</td>\n",
       "      <td>NaN</td>\n",
       "      <td>NaN</td>\n",
       "    </tr>\n",
       "    <tr>\n",
       "      <th>1</th>\n",
       "      <td>ROLDN J;BOUBETA-PUIG J;LUIS MARTNEZ J;ORTIZ G</td>\n",
       "      <td>INTEGRATING COMPLEX EVENT PROCESSING AND MACHI...</td>\n",
       "      <td>EXPERT SYSTEMS WITH APPLICATIONS</td>\n",
       "      <td>EXPERT SYS APPL</td>\n",
       "      <td>THE INTERNET OF THINGS (IOT) IS GROWING GLOBAL...</td>\n",
       "      <td>COMPLEX EVENT PROCESSING; INTELLIGENT DECISION...</td>\n",
       "      <td>AUTOMATIC PROGRAMMING; BEHAVIORAL RESEARCH; CO...</td>\n",
       "      <td>RESEARCH INSTITUTE OF INFORMATICS (I3A), UNIVE...</td>\n",
       "      <td>2020</td>\n",
       "      <td>NaN</td>\n",
       "      <td>NaN</td>\n",
       "      <td>Good to all,\\nw.r.to the given dataset kindly ...</td>\n",
       "    </tr>\n",
       "    <tr>\n",
       "      <th>2</th>\n",
       "      <td>ZHAO X;PI D;CHEN J</td>\n",
       "      <td>NOVEL TRAJECTORY PRIVACY-PRESERVING METHOD BAS...</td>\n",
       "      <td>EXPERT SYSTEMS WITH APPLICATIONS</td>\n",
       "      <td>EXPERT SYS APPL</td>\n",
       "      <td>WITH THE DEVELOPMENT OF LOCATION-AWARE TECHNOL...</td>\n",
       "      <td>CLUSTER ANALYSIS; DIFFERENTIAL PRIVACY; PRIVAC...</td>\n",
       "      <td>CLUSTER ANALYSIS; CLUSTERING ALGORITHMS; DATA ...</td>\n",
       "      <td>COLLEGE OF COMPUTER SCIENCE AND TECHNOLOGY, NA...</td>\n",
       "      <td>2020</td>\n",
       "      <td>NaN</td>\n",
       "      <td>NaN</td>\n",
       "      <td>NaN</td>\n",
       "    </tr>\n",
       "    <tr>\n",
       "      <th>3</th>\n",
       "      <td>WANG G;CHEN Q;XU Z;LENG X</td>\n",
       "      <td>CAN THE USE OF GOVERNMENT APPS SHAPE CITIZEN C...</td>\n",
       "      <td>COMPUTERS IN HUMAN BEHAVIOR</td>\n",
       "      <td>COMPUT. HUM. BEHAV.</td>\n",
       "      <td>ALTHOUGH GOVERNMENT APPLICATIONS (APPS) HAVE D...</td>\n",
       "      <td>CITIZEN COMPLIANCE; GOVERNMENT APP; GOVERNMENT...</td>\n",
       "      <td>HUMAN COMPUTER INTERACTION; CHENGDU; CITIZEN C...</td>\n",
       "      <td>COLLEGE OF PUBLIC ADMINISTRATION, CENTRAL CHIN...</td>\n",
       "      <td>2020</td>\n",
       "      <td>NaN</td>\n",
       "      <td>NaN</td>\n",
       "      <td>NaN</td>\n",
       "    </tr>\n",
       "    <tr>\n",
       "      <th>4</th>\n",
       "      <td>ALAZZAM H;SHARIEH A;SABRI KE</td>\n",
       "      <td>A FEATURE SELECTION ALGORITHM FOR INTRUSION DE...</td>\n",
       "      <td>EXPERT SYSTEMS WITH APPLICATIONS</td>\n",
       "      <td>EXPERT SYS APPL</td>\n",
       "      <td>FEATURE SELECTION PLAYS A VITAL ROLE IN BUILDI...</td>\n",
       "      <td>FEATURE SELECTION; INTRUSION DETECTION SYSTEM;...</td>\n",
       "      <td>COMPUTER CRIME; INTRUSION DETECTION; NETWORK S...</td>\n",
       "      <td>COMPUTER SCIENCE DEPARTMENT, UNIVERSITY OF JOR...</td>\n",
       "      <td>2020</td>\n",
       "      <td>NaN</td>\n",
       "      <td>NaN</td>\n",
       "      <td>NaN</td>\n",
       "    </tr>\n",
       "    <tr>\n",
       "      <th>...</th>\n",
       "      <td>...</td>\n",
       "      <td>...</td>\n",
       "      <td>...</td>\n",
       "      <td>...</td>\n",
       "      <td>...</td>\n",
       "      <td>...</td>\n",
       "      <td>...</td>\n",
       "      <td>...</td>\n",
       "      <td>...</td>\n",
       "      <td>...</td>\n",
       "      <td>...</td>\n",
       "      <td>...</td>\n",
       "    </tr>\n",
       "    <tr>\n",
       "      <th>514</th>\n",
       "      <td>CHEUNG HH;CHOI SH</td>\n",
       "      <td>IMPLEMENTATION ISSUES IN RFID-BASED ANTI-COUNT...</td>\n",
       "      <td>COMPUTERS IN INDUSTRY</td>\n",
       "      <td>COMPUT IND</td>\n",
       "      <td>RFID HAS EMERGED AS A POTENTIAL TOOL TO COMBAT...</td>\n",
       "      <td>ANTI-COUNTERFEITING; CRITICAL TAG MOVING SPEED...</td>\n",
       "      <td>ANTI-COUNTERFEITING; MOVING SPEED; PRODUCT TAG...</td>\n",
       "      <td>DEPARTMENT OF INDUSTRIAL AND MANUFACTURING SYS...</td>\n",
       "      <td>2011</td>\n",
       "      <td>NaN</td>\n",
       "      <td>NaN</td>\n",
       "      <td>NaN</td>\n",
       "    </tr>\n",
       "    <tr>\n",
       "      <th>515</th>\n",
       "      <td>SONG W;CHEON CHOI L;CHEOL PARK S;FENG DING X</td>\n",
       "      <td>FUZZY EVOLUTIONARY OPTIMIZATION MODELING AND I...</td>\n",
       "      <td>EXPERT SYSTEMS WITH APPLICATIONS</td>\n",
       "      <td>EXPERT SYS APPL</td>\n",
       "      <td>MODERN INFORMATION RETRIEVAL (IR) SYSTEMS CONS...</td>\n",
       "      <td>EXTRACTIVE SUMMARIZATION; FUZZY EVOLUTIONARY O...</td>\n",
       "      <td>EXTRACTIVE SUMMARIZATIONS; FUZZY EVOLUTIONARY ...</td>\n",
       "      <td>SCHOOL OF IOT ENGINEERING, JIANGNAN UNIVERSITY...</td>\n",
       "      <td>2011</td>\n",
       "      <td>NaN</td>\n",
       "      <td>NaN</td>\n",
       "      <td>NaN</td>\n",
       "    </tr>\n",
       "    <tr>\n",
       "      <th>516</th>\n",
       "      <td>MEYER GG;HANS WORTMANN JC;SZIRBIK NB</td>\n",
       "      <td>PRODUCTION MONITORING AND CONTROL WITH INTELLI...</td>\n",
       "      <td>INTERNATIONAL JOURNAL OF PRODUCTION RESEARCH</td>\n",
       "      <td>INT J PROD RES</td>\n",
       "      <td>ADVANCES IN PRODUCTION PLANNING AND CONTROL IN...</td>\n",
       "      <td>DISTURBANCES; INTELLIGENT PRODUCTS; MONITORING...</td>\n",
       "      <td>DECENTRALISED; DISTURBANCES; INTELLIGENT PRODU...</td>\n",
       "      <td>DEPARTMENT OF BUSINESS ICT, FACULTY OF ECONOMI...</td>\n",
       "      <td>2011</td>\n",
       "      <td>NaN</td>\n",
       "      <td>NaN</td>\n",
       "      <td>NaN</td>\n",
       "    </tr>\n",
       "    <tr>\n",
       "      <th>517</th>\n",
       "      <td>XU LD</td>\n",
       "      <td>INFORMATION ARCHITECTURE FOR SUPPLY CHAIN QUAL...</td>\n",
       "      <td>INTERNATIONAL JOURNAL OF PRODUCTION RESEARCH</td>\n",
       "      <td>INT J PROD RES</td>\n",
       "      <td>AS QUALITY REQUIREMENTS PLAY A CRUCIAL ROLE IN...</td>\n",
       "      <td>AGENT; ENTERPRISE INFORMATION SYSTEMS; INTERNE...</td>\n",
       "      <td>ENTERPRISE INFORMATION SYSTEM; INTERNET OF THI...</td>\n",
       "      <td>DEPARTMENT OF INFORMATION TECHNOLOGY AND DECIS...</td>\n",
       "      <td>2011</td>\n",
       "      <td>NaN</td>\n",
       "      <td>NaN</td>\n",
       "      <td>NaN</td>\n",
       "    </tr>\n",
       "    <tr>\n",
       "      <th>518</th>\n",
       "      <td>ILIE-ZUDOR E;KEMNY Z;VAN BLOMMESTEIN F;MONOSTO...</td>\n",
       "      <td>A SURVEY OF APPLICATIONS AND REQUIREMENTS OF U...</td>\n",
       "      <td>COMPUTERS IN INDUSTRY</td>\n",
       "      <td>COMPUT IND</td>\n",
       "      <td>THE PAPER CONTAINS AN OVERVIEW OF UNIQUE IDENT...</td>\n",
       "      <td>AUTOMATIC IDENTIFICATION; DATA TRANSFER; IDENT...</td>\n",
       "      <td>AUTOMATION; DATA TRANSFER; SUPPLY CHAINS; AUTO...</td>\n",
       "      <td>COMPUTER AND AUTOMATION RESEARCH INSTITUTE, HU...</td>\n",
       "      <td>2011</td>\n",
       "      <td>NaN</td>\n",
       "      <td>NaN</td>\n",
       "      <td>NaN</td>\n",
       "    </tr>\n",
       "  </tbody>\n",
       "</table>\n",
       "<p>519 rows × 12 columns</p>\n",
       "</div>"
      ],
      "text/plain": [
       "                                                    AU  \\\n",
       "0        BOTANGEN KA;YU J;SHENG QZ;HAN Y;YONGCHAREON S   \n",
       "1        ROLDN J;BOUBETA-PUIG J;LUIS MARTNEZ J;ORTIZ G   \n",
       "2                                   ZHAO X;PI D;CHEN J   \n",
       "3                            WANG G;CHEN Q;XU Z;LENG X   \n",
       "4                         ALAZZAM H;SHARIEH A;SABRI KE   \n",
       "..                                                 ...   \n",
       "514                                  CHEUNG HH;CHOI SH   \n",
       "515       SONG W;CHEON CHOI L;CHEOL PARK S;FENG DING X   \n",
       "516               MEYER GG;HANS WORTMANN JC;SZIRBIK NB   \n",
       "517                                              XU LD   \n",
       "518  ILIE-ZUDOR E;KEMNY Z;VAN BLOMMESTEIN F;MONOSTO...   \n",
       "\n",
       "                                                    TI  \\\n",
       "0    GEOGRAPHIC-AWARE COLLABORATIVE FILTERING FOR W...   \n",
       "1    INTEGRATING COMPLEX EVENT PROCESSING AND MACHI...   \n",
       "2    NOVEL TRAJECTORY PRIVACY-PRESERVING METHOD BAS...   \n",
       "3    CAN THE USE OF GOVERNMENT APPS SHAPE CITIZEN C...   \n",
       "4    A FEATURE SELECTION ALGORITHM FOR INTRUSION DE...   \n",
       "..                                                 ...   \n",
       "514  IMPLEMENTATION ISSUES IN RFID-BASED ANTI-COUNT...   \n",
       "515  FUZZY EVOLUTIONARY OPTIMIZATION MODELING AND I...   \n",
       "516  PRODUCTION MONITORING AND CONTROL WITH INTELLI...   \n",
       "517  INFORMATION ARCHITECTURE FOR SUPPLY CHAIN QUAL...   \n",
       "518  A SURVEY OF APPLICATIONS AND REQUIREMENTS OF U...   \n",
       "\n",
       "                                               SO                   JI  \\\n",
       "0                EXPERT SYSTEMS WITH APPLICATIONS      EXPERT SYS APPL   \n",
       "1                EXPERT SYSTEMS WITH APPLICATIONS      EXPERT SYS APPL   \n",
       "2                EXPERT SYSTEMS WITH APPLICATIONS      EXPERT SYS APPL   \n",
       "3                     COMPUTERS IN HUMAN BEHAVIOR  COMPUT. HUM. BEHAV.   \n",
       "4                EXPERT SYSTEMS WITH APPLICATIONS      EXPERT SYS APPL   \n",
       "..                                            ...                  ...   \n",
       "514                         COMPUTERS IN INDUSTRY           COMPUT IND   \n",
       "515              EXPERT SYSTEMS WITH APPLICATIONS      EXPERT SYS APPL   \n",
       "516  INTERNATIONAL JOURNAL OF PRODUCTION RESEARCH       INT J PROD RES   \n",
       "517  INTERNATIONAL JOURNAL OF PRODUCTION RESEARCH       INT J PROD RES   \n",
       "518                         COMPUTERS IN INDUSTRY           COMPUT IND   \n",
       "\n",
       "                                                    AB  \\\n",
       "0    THE EXPLOSION OF REUSABLE WEB SERVICES (E.G., ...   \n",
       "1    THE INTERNET OF THINGS (IOT) IS GROWING GLOBAL...   \n",
       "2    WITH THE DEVELOPMENT OF LOCATION-AWARE TECHNOL...   \n",
       "3    ALTHOUGH GOVERNMENT APPLICATIONS (APPS) HAVE D...   \n",
       "4    FEATURE SELECTION PLAYS A VITAL ROLE IN BUILDI...   \n",
       "..                                                 ...   \n",
       "514  RFID HAS EMERGED AS A POTENTIAL TOOL TO COMBAT...   \n",
       "515  MODERN INFORMATION RETRIEVAL (IR) SYSTEMS CONS...   \n",
       "516  ADVANCES IN PRODUCTION PLANNING AND CONTROL IN...   \n",
       "517  AS QUALITY REQUIREMENTS PLAY A CRUCIAL ROLE IN...   \n",
       "518  THE PAPER CONTAINS AN OVERVIEW OF UNIQUE IDENT...   \n",
       "\n",
       "                                                    DE  \\\n",
       "0    IMPLICIT FEEDBACK; LOCATION; MATRIX FACTORIZAT...   \n",
       "1    COMPLEX EVENT PROCESSING; INTELLIGENT DECISION...   \n",
       "2    CLUSTER ANALYSIS; DIFFERENTIAL PRIVACY; PRIVAC...   \n",
       "3    CITIZEN COMPLIANCE; GOVERNMENT APP; GOVERNMENT...   \n",
       "4    FEATURE SELECTION; INTRUSION DETECTION SYSTEM;...   \n",
       "..                                                 ...   \n",
       "514  ANTI-COUNTERFEITING; CRITICAL TAG MOVING SPEED...   \n",
       "515  EXTRACTIVE SUMMARIZATION; FUZZY EVOLUTIONARY O...   \n",
       "516  DISTURBANCES; INTELLIGENT PRODUCTS; MONITORING...   \n",
       "517  AGENT; ENTERPRISE INFORMATION SYSTEMS; INTERNE...   \n",
       "518  AUTOMATIC IDENTIFICATION; DATA TRANSFER; IDENT...   \n",
       "\n",
       "                                                    ID  \\\n",
       "0    APPLICATION PROGRAMMING INTERFACES (API); COLL...   \n",
       "1    AUTOMATIC PROGRAMMING; BEHAVIORAL RESEARCH; CO...   \n",
       "2    CLUSTER ANALYSIS; CLUSTERING ALGORITHMS; DATA ...   \n",
       "3    HUMAN COMPUTER INTERACTION; CHENGDU; CITIZEN C...   \n",
       "4    COMPUTER CRIME; INTRUSION DETECTION; NETWORK S...   \n",
       "..                                                 ...   \n",
       "514  ANTI-COUNTERFEITING; MOVING SPEED; PRODUCT TAG...   \n",
       "515  EXTRACTIVE SUMMARIZATIONS; FUZZY EVOLUTIONARY ...   \n",
       "516  DECENTRALISED; DISTURBANCES; INTELLIGENT PRODU...   \n",
       "517  ENTERPRISE INFORMATION SYSTEM; INTERNET OF THI...   \n",
       "518  AUTOMATION; DATA TRANSFER; SUPPLY CHAINS; AUTO...   \n",
       "\n",
       "                                                    C1    PY  Unnamed: 9  \\\n",
       "0    DEPARTMENT OF COMPUTER SCIENCE, AUCKLAND UNIVE...  2020         NaN   \n",
       "1    RESEARCH INSTITUTE OF INFORMATICS (I3A), UNIVE...  2020         NaN   \n",
       "2    COLLEGE OF COMPUTER SCIENCE AND TECHNOLOGY, NA...  2020         NaN   \n",
       "3    COLLEGE OF PUBLIC ADMINISTRATION, CENTRAL CHIN...  2020         NaN   \n",
       "4    COMPUTER SCIENCE DEPARTMENT, UNIVERSITY OF JOR...  2020         NaN   \n",
       "..                                                 ...   ...         ...   \n",
       "514  DEPARTMENT OF INDUSTRIAL AND MANUFACTURING SYS...  2011         NaN   \n",
       "515  SCHOOL OF IOT ENGINEERING, JIANGNAN UNIVERSITY...  2011         NaN   \n",
       "516  DEPARTMENT OF BUSINESS ICT, FACULTY OF ECONOMI...  2011         NaN   \n",
       "517  DEPARTMENT OF INFORMATION TECHNOLOGY AND DECIS...  2011         NaN   \n",
       "518  COMPUTER AND AUTOMATION RESEARCH INSTITUTE, HU...  2011         NaN   \n",
       "\n",
       "     Unnamed: 10                                        Unnamed: 11  \n",
       "0            NaN                                                NaN  \n",
       "1            NaN  Good to all,\\nw.r.to the given dataset kindly ...  \n",
       "2            NaN                                                NaN  \n",
       "3            NaN                                                NaN  \n",
       "4            NaN                                                NaN  \n",
       "..           ...                                                ...  \n",
       "514          NaN                                                NaN  \n",
       "515          NaN                                                NaN  \n",
       "516          NaN                                                NaN  \n",
       "517          NaN                                                NaN  \n",
       "518          NaN                                                NaN  \n",
       "\n",
       "[519 rows x 12 columns]"
      ]
     },
     "execution_count": 2,
     "metadata": {},
     "output_type": "execute_result"
    }
   ],
   "source": [
    "df"
   ]
  },
  {
   "cell_type": "code",
   "execution_count": 3,
   "metadata": {},
   "outputs": [
    {
     "data": {
      "text/plain": [
       "['AU', 'TI', 'SO', 'JI', 'AB', 'DE', 'ID', 'C1', 'PY']"
      ]
     },
     "execution_count": 3,
     "metadata": {},
     "output_type": "execute_result"
    }
   ],
   "source": [
    "cols = list(df.columns)[0:-3]\n",
    "cols"
   ]
  },
  {
   "cell_type": "code",
   "execution_count": 4,
   "metadata": {},
   "outputs": [],
   "source": [
    "df = df[cols]"
   ]
  },
  {
   "cell_type": "code",
   "execution_count": 5,
   "metadata": {},
   "outputs": [
    {
     "name": "stdout",
     "output_type": "stream",
     "text": [
      "<class 'pandas.core.frame.DataFrame'>\n",
      "RangeIndex: 519 entries, 0 to 518\n",
      "Data columns (total 9 columns):\n",
      " #   Column  Non-Null Count  Dtype \n",
      "---  ------  --------------  ----- \n",
      " 0   AU      519 non-null    object\n",
      " 1   TI      519 non-null    object\n",
      " 2   SO      519 non-null    object\n",
      " 3   JI      519 non-null    object\n",
      " 4   AB      517 non-null    object\n",
      " 5   DE      513 non-null    object\n",
      " 6   ID      466 non-null    object\n",
      " 7   C1      519 non-null    object\n",
      " 8   PY      519 non-null    int64 \n",
      "dtypes: int64(1), object(8)\n",
      "memory usage: 36.6+ KB\n"
     ]
    }
   ],
   "source": [
    "df.info()"
   ]
  },
  {
   "cell_type": "code",
   "execution_count": 6,
   "metadata": {},
   "outputs": [
    {
     "data": {
      "text/plain": [
       "AU     0\n",
       "TI     0\n",
       "SO     0\n",
       "JI     0\n",
       "AB     2\n",
       "DE     6\n",
       "ID    53\n",
       "C1     0\n",
       "PY     0\n",
       "dtype: int64"
      ]
     },
     "execution_count": 6,
     "metadata": {},
     "output_type": "execute_result"
    }
   ],
   "source": [
    "df.isnull().sum()"
   ]
  },
  {
   "cell_type": "code",
   "execution_count": 7,
   "metadata": {},
   "outputs": [
    {
     "data": {
      "text/plain": [
       "(519, 9)"
      ]
     },
     "execution_count": 7,
     "metadata": {},
     "output_type": "execute_result"
    }
   ],
   "source": [
    "df.shape"
   ]
  },
  {
   "cell_type": "code",
   "execution_count": 8,
   "metadata": {},
   "outputs": [
    {
     "data": {
      "text/plain": [
       "AU     0\n",
       "TI     0\n",
       "SO     0\n",
       "JI     0\n",
       "AB     2\n",
       "DE     6\n",
       "ID    53\n",
       "C1     0\n",
       "PY     0\n",
       "dtype: int64"
      ]
     },
     "execution_count": 8,
     "metadata": {},
     "output_type": "execute_result"
    }
   ],
   "source": [
    "df.isnull().sum()"
   ]
  },
  {
   "cell_type": "code",
   "execution_count": 9,
   "metadata": {},
   "outputs": [
    {
     "data": {
      "image/png": "[encoded data removed]",
      "text/plain": [
       "<Figure size 432x288 with 1 Axes>"
      ]
     },
     "metadata": {
      "needs_background": "light"
     },
     "output_type": "display_data"
    }
   ],
   "source": [
    "import seaborn as sns\n",
    "import matplotlib.pyplot as plt\n",
    "sns.countplot(df['PY'])\n",
    "plt.show()"
   ]
  },
  {
   "cell_type": "code",
   "execution_count": 10,
   "metadata": {},
   "outputs": [
    {
     "data": {
      "text/html": [
       "<div>\n",
       "<style scoped>\n",
       "    .dataframe tbody tr th:only-of-type {\n",
       "        vertical-align: middle;\n",
       "    }\n",
       "\n",
       "    .dataframe tbody tr th {\n",
       "        vertical-align: top;\n",
       "    }\n",
       "\n",
       "    .dataframe thead th {\n",
       "        text-align: right;\n",
       "    }\n",
       "</style>\n",
       "<table border=\"1\" class=\"dataframe\">\n",
       "  <thead>\n",
       "    <tr style=\"text-align: right;\">\n",
       "      <th></th>\n",
       "      <th>index</th>\n",
       "      <th>AU</th>\n",
       "      <th>TI</th>\n",
       "      <th>SO</th>\n",
       "      <th>JI</th>\n",
       "      <th>AB</th>\n",
       "      <th>DE</th>\n",
       "      <th>ID</th>\n",
       "      <th>C1</th>\n",
       "      <th>PY</th>\n",
       "    </tr>\n",
       "  </thead>\n",
       "  <tbody>\n",
       "    <tr>\n",
       "      <th>0</th>\n",
       "      <td>0</td>\n",
       "      <td>BOTANGEN KA;YU J;SHENG QZ;HAN Y;YONGCHAREON S</td>\n",
       "      <td>GEOGRAPHIC-AWARE COLLABORATIVE FILTERING FOR W...</td>\n",
       "      <td>EXPERT SYSTEMS WITH APPLICATIONS</td>\n",
       "      <td>EXPERT SYS APPL</td>\n",
       "      <td>THE EXPLOSION OF REUSABLE WEB SERVICES (E.G., ...</td>\n",
       "      <td>IMPLICIT FEEDBACK; LOCATION; MATRIX FACTORIZAT...</td>\n",
       "      <td>APPLICATION PROGRAMMING INTERFACES (API); COLL...</td>\n",
       "      <td>DEPARTMENT OF COMPUTER SCIENCE, AUCKLAND UNIVE...</td>\n",
       "      <td>2020</td>\n",
       "    </tr>\n",
       "    <tr>\n",
       "      <th>1</th>\n",
       "      <td>60</td>\n",
       "      <td>YANG Z;DING Y;JIN Y;HAO K</td>\n",
       "      <td>IMMUNE-ENDOCRINE SYSTEM INSPIRED HIERARCHICAL ...</td>\n",
       "      <td>IEEE TRANSACTIONS ON CYBERNETICS</td>\n",
       "      <td>IEEE TRANS. CYBERN.</td>\n",
       "      <td>THE INTELLIGENT DEVICES IN INTERNET OF THINGS ...</td>\n",
       "      <td>COEVOLUTIONARY OPTIMIZATION; HIERARCHICAL MULT...</td>\n",
       "      <td>HEURISTIC ALGORITHMS; IMMUNE SYSTEM; MULTIOBJE...</td>\n",
       "      <td>ENGINEERING RESEARCH CENTER OF DIGITIZED TEXTI...</td>\n",
       "      <td>2020</td>\n",
       "    </tr>\n",
       "    <tr>\n",
       "      <th>2</th>\n",
       "      <td>69</td>\n",
       "      <td>ZHOU Z;WANG B;DONG M;OTA K</td>\n",
       "      <td>SECURE AND EFFICIENT VEHICLE-TO-GRID ENERGY TR...</td>\n",
       "      <td>IEEE TRANSACTIONS ON SYSTEMS, MAN, AND CYBERNE...</td>\n",
       "      <td>IEEE TRANS. SYST. MAN CYBERN. SYST.</td>\n",
       "      <td>SMART GRID HAS EMERGED AS A SUCCESSFUL APPLICA...</td>\n",
       "      <td>CONSORTIUM BLOCKCHAIN; CONTRACT THEORY; CYBER-...</td>\n",
       "      <td>BLOCKCHAIN; COMMERCE; COMPUTATION THEORY; CONV...</td>\n",
       "      <td>STATE KEY LABORATORY OF ALTERNATE ELECTRICAL P...</td>\n",
       "      <td>2020</td>\n",
       "    </tr>\n",
       "    <tr>\n",
       "      <th>3</th>\n",
       "      <td>68</td>\n",
       "      <td>XU Y;LIU C;LI JY;SU CY;HUANG T</td>\n",
       "      <td>FINITE-HORIZON H STATE ESTIMATION FOR TIME-VAR...</td>\n",
       "      <td>IEEE TRANSACTIONS ON SYSTEMS, MAN, AND CYBERNE...</td>\n",
       "      <td>IEEE TRANS. SYST. MAN CYBERN. SYST.</td>\n",
       "      <td>THIS PAPER INVESTIGATES AN H ESTIMATOR DESIGN ...</td>\n",
       "      <td>COUPLED SYSTEMS; FINITE-HORIZON H ESTIMATION; ...</td>\n",
       "      <td>COUPLINGS; MARKOV PROCESSES; NEURAL NETWORKS; ...</td>\n",
       "      <td>SCHOOL OF AUTOMATION, GUANGDONG KEY LABORATORY...</td>\n",
       "      <td>2020</td>\n",
       "    </tr>\n",
       "    <tr>\n",
       "      <th>4</th>\n",
       "      <td>67</td>\n",
       "      <td>OLSEN TL;TOMLIN B</td>\n",
       "      <td>INDUSTRY 4.0: OPPORTUNITIES AND CHALLENGES FOR...</td>\n",
       "      <td>MANUFACTURING AND SERVICE OPERATIONS MANAGEMENT</td>\n",
       "      <td>MANUF. SERV. OPER. MANAGE.</td>\n",
       "      <td>INDUSTRY 4.0 CONNOTES A NEW INDUSTRIAL REVOLUT...</td>\n",
       "      <td>ADDITIVE MANUFACTURING; ARTIFICIAL INTELLIGENC...</td>\n",
       "      <td>3D PRINTERS; ADDITIVES; ARTIFICIAL INTELLIGENC...</td>\n",
       "      <td>DEPARTMENT OF INFORMATION SYSTEMS AND OPERATIO...</td>\n",
       "      <td>2020</td>\n",
       "    </tr>\n",
       "    <tr>\n",
       "      <th>...</th>\n",
       "      <td>...</td>\n",
       "      <td>...</td>\n",
       "      <td>...</td>\n",
       "      <td>...</td>\n",
       "      <td>...</td>\n",
       "      <td>...</td>\n",
       "      <td>...</td>\n",
       "      <td>...</td>\n",
       "      <td>...</td>\n",
       "      <td>...</td>\n",
       "    </tr>\n",
       "    <tr>\n",
       "      <th>514</th>\n",
       "      <td>514</td>\n",
       "      <td>CHEUNG HH;CHOI SH</td>\n",
       "      <td>IMPLEMENTATION ISSUES IN RFID-BASED ANTI-COUNT...</td>\n",
       "      <td>COMPUTERS IN INDUSTRY</td>\n",
       "      <td>COMPUT IND</td>\n",
       "      <td>RFID HAS EMERGED AS A POTENTIAL TOOL TO COMBAT...</td>\n",
       "      <td>ANTI-COUNTERFEITING; CRITICAL TAG MOVING SPEED...</td>\n",
       "      <td>ANTI-COUNTERFEITING; MOVING SPEED; PRODUCT TAG...</td>\n",
       "      <td>DEPARTMENT OF INDUSTRIAL AND MANUFACTURING SYS...</td>\n",
       "      <td>2011</td>\n",
       "    </tr>\n",
       "    <tr>\n",
       "      <th>515</th>\n",
       "      <td>515</td>\n",
       "      <td>SONG W;CHEON CHOI L;CHEOL PARK S;FENG DING X</td>\n",
       "      <td>FUZZY EVOLUTIONARY OPTIMIZATION MODELING AND I...</td>\n",
       "      <td>EXPERT SYSTEMS WITH APPLICATIONS</td>\n",
       "      <td>EXPERT SYS APPL</td>\n",
       "      <td>MODERN INFORMATION RETRIEVAL (IR) SYSTEMS CONS...</td>\n",
       "      <td>EXTRACTIVE SUMMARIZATION; FUZZY EVOLUTIONARY O...</td>\n",
       "      <td>EXTRACTIVE SUMMARIZATIONS; FUZZY EVOLUTIONARY ...</td>\n",
       "      <td>SCHOOL OF IOT ENGINEERING, JIANGNAN UNIVERSITY...</td>\n",
       "      <td>2011</td>\n",
       "    </tr>\n",
       "    <tr>\n",
       "      <th>516</th>\n",
       "      <td>516</td>\n",
       "      <td>MEYER GG;HANS WORTMANN JC;SZIRBIK NB</td>\n",
       "      <td>PRODUCTION MONITORING AND CONTROL WITH INTELLI...</td>\n",
       "      <td>INTERNATIONAL JOURNAL OF PRODUCTION RESEARCH</td>\n",
       "      <td>INT J PROD RES</td>\n",
       "      <td>ADVANCES IN PRODUCTION PLANNING AND CONTROL IN...</td>\n",
       "      <td>DISTURBANCES; INTELLIGENT PRODUCTS; MONITORING...</td>\n",
       "      <td>DECENTRALISED; DISTURBANCES; INTELLIGENT PRODU...</td>\n",
       "      <td>DEPARTMENT OF BUSINESS ICT, FACULTY OF ECONOMI...</td>\n",
       "      <td>2011</td>\n",
       "    </tr>\n",
       "    <tr>\n",
       "      <th>517</th>\n",
       "      <td>517</td>\n",
       "      <td>XU LD</td>\n",
       "      <td>INFORMATION ARCHITECTURE FOR SUPPLY CHAIN QUAL...</td>\n",
       "      <td>INTERNATIONAL JOURNAL OF PRODUCTION RESEARCH</td>\n",
       "      <td>INT J PROD RES</td>\n",
       "      <td>AS QUALITY REQUIREMENTS PLAY A CRUCIAL ROLE IN...</td>\n",
       "      <td>AGENT; ENTERPRISE INFORMATION SYSTEMS; INTERNE...</td>\n",
       "      <td>ENTERPRISE INFORMATION SYSTEM; INTERNET OF THI...</td>\n",
       "      <td>DEPARTMENT OF INFORMATION TECHNOLOGY AND DECIS...</td>\n",
       "      <td>2011</td>\n",
       "    </tr>\n",
       "    <tr>\n",
       "      <th>518</th>\n",
       "      <td>518</td>\n",
       "      <td>ILIE-ZUDOR E;KEMNY Z;VAN BLOMMESTEIN F;MONOSTO...</td>\n",
       "      <td>A SURVEY OF APPLICATIONS AND REQUIREMENTS OF U...</td>\n",
       "      <td>COMPUTERS IN INDUSTRY</td>\n",
       "      <td>COMPUT IND</td>\n",
       "      <td>THE PAPER CONTAINS AN OVERVIEW OF UNIQUE IDENT...</td>\n",
       "      <td>AUTOMATIC IDENTIFICATION; DATA TRANSFER; IDENT...</td>\n",
       "      <td>AUTOMATION; DATA TRANSFER; SUPPLY CHAINS; AUTO...</td>\n",
       "      <td>COMPUTER AND AUTOMATION RESEARCH INSTITUTE, HU...</td>\n",
       "      <td>2011</td>\n",
       "    </tr>\n",
       "  </tbody>\n",
       "</table>\n",
       "<p>519 rows × 10 columns</p>\n",
       "</div>"
      ],
      "text/plain": [
       "     index                                                 AU  \\\n",
       "0        0      BOTANGEN KA;YU J;SHENG QZ;HAN Y;YONGCHAREON S   \n",
       "1       60                          YANG Z;DING Y;JIN Y;HAO K   \n",
       "2       69                         ZHOU Z;WANG B;DONG M;OTA K   \n",
       "3       68                     XU Y;LIU C;LI JY;SU CY;HUANG T   \n",
       "4       67                                  OLSEN TL;TOMLIN B   \n",
       "..     ...                                                ...   \n",
       "514    514                                  CHEUNG HH;CHOI SH   \n",
       "515    515       SONG W;CHEON CHOI L;CHEOL PARK S;FENG DING X   \n",
       "516    516               MEYER GG;HANS WORTMANN JC;SZIRBIK NB   \n",
       "517    517                                              XU LD   \n",
       "518    518  ILIE-ZUDOR E;KEMNY Z;VAN BLOMMESTEIN F;MONOSTO...   \n",
       "\n",
       "                                                    TI  \\\n",
       "0    GEOGRAPHIC-AWARE COLLABORATIVE FILTERING FOR W...   \n",
       "1    IMMUNE-ENDOCRINE SYSTEM INSPIRED HIERARCHICAL ...   \n",
       "2    SECURE AND EFFICIENT VEHICLE-TO-GRID ENERGY TR...   \n",
       "3    FINITE-HORIZON H STATE ESTIMATION FOR TIME-VAR...   \n",
       "4    INDUSTRY 4.0: OPPORTUNITIES AND CHALLENGES FOR...   \n",
       "..                                                 ...   \n",
       "514  IMPLEMENTATION ISSUES IN RFID-BASED ANTI-COUNT...   \n",
       "515  FUZZY EVOLUTIONARY OPTIMIZATION MODELING AND I...   \n",
       "516  PRODUCTION MONITORING AND CONTROL WITH INTELLI...   \n",
       "517  INFORMATION ARCHITECTURE FOR SUPPLY CHAIN QUAL...   \n",
       "518  A SURVEY OF APPLICATIONS AND REQUIREMENTS OF U...   \n",
       "\n",
       "                                                    SO  \\\n",
       "0                     EXPERT SYSTEMS WITH APPLICATIONS   \n",
       "1                     IEEE TRANSACTIONS ON CYBERNETICS   \n",
       "2    IEEE TRANSACTIONS ON SYSTEMS, MAN, AND CYBERNE...   \n",
       "3    IEEE TRANSACTIONS ON SYSTEMS, MAN, AND CYBERNE...   \n",
       "4      MANUFACTURING AND SERVICE OPERATIONS MANAGEMENT   \n",
       "..                                                 ...   \n",
       "514                              COMPUTERS IN INDUSTRY   \n",
       "515                   EXPERT SYSTEMS WITH APPLICATIONS   \n",
       "516       INTERNATIONAL JOURNAL OF PRODUCTION RESEARCH   \n",
       "517       INTERNATIONAL JOURNAL OF PRODUCTION RESEARCH   \n",
       "518                              COMPUTERS IN INDUSTRY   \n",
       "\n",
       "                                      JI  \\\n",
       "0                        EXPERT SYS APPL   \n",
       "1                    IEEE TRANS. CYBERN.   \n",
       "2    IEEE TRANS. SYST. MAN CYBERN. SYST.   \n",
       "3    IEEE TRANS. SYST. MAN CYBERN. SYST.   \n",
       "4             MANUF. SERV. OPER. MANAGE.   \n",
       "..                                   ...   \n",
       "514                           COMPUT IND   \n",
       "515                      EXPERT SYS APPL   \n",
       "516                       INT J PROD RES   \n",
       "517                       INT J PROD RES   \n",
       "518                           COMPUT IND   \n",
       "\n",
       "                                                    AB  \\\n",
       "0    THE EXPLOSION OF REUSABLE WEB SERVICES (E.G., ...   \n",
       "1    THE INTELLIGENT DEVICES IN INTERNET OF THINGS ...   \n",
       "2    SMART GRID HAS EMERGED AS A SUCCESSFUL APPLICA...   \n",
       "3    THIS PAPER INVESTIGATES AN H ESTIMATOR DESIGN ...   \n",
       "4    INDUSTRY 4.0 CONNOTES A NEW INDUSTRIAL REVOLUT...   \n",
       "..                                                 ...   \n",
       "514  RFID HAS EMERGED AS A POTENTIAL TOOL TO COMBAT...   \n",
       "515  MODERN INFORMATION RETRIEVAL (IR) SYSTEMS CONS...   \n",
       "516  ADVANCES IN PRODUCTION PLANNING AND CONTROL IN...   \n",
       "517  AS QUALITY REQUIREMENTS PLAY A CRUCIAL ROLE IN...   \n",
       "518  THE PAPER CONTAINS AN OVERVIEW OF UNIQUE IDENT...   \n",
       "\n",
       "                                                    DE  \\\n",
       "0    IMPLICIT FEEDBACK; LOCATION; MATRIX FACTORIZAT...   \n",
       "1    COEVOLUTIONARY OPTIMIZATION; HIERARCHICAL MULT...   \n",
       "2    CONSORTIUM BLOCKCHAIN; CONTRACT THEORY; CYBER-...   \n",
       "3    COUPLED SYSTEMS; FINITE-HORIZON H ESTIMATION; ...   \n",
       "4    ADDITIVE MANUFACTURING; ARTIFICIAL INTELLIGENC...   \n",
       "..                                                 ...   \n",
       "514  ANTI-COUNTERFEITING; CRITICAL TAG MOVING SPEED...   \n",
       "515  EXTRACTIVE SUMMARIZATION; FUZZY EVOLUTIONARY O...   \n",
       "516  DISTURBANCES; INTELLIGENT PRODUCTS; MONITORING...   \n",
       "517  AGENT; ENTERPRISE INFORMATION SYSTEMS; INTERNE...   \n",
       "518  AUTOMATIC IDENTIFICATION; DATA TRANSFER; IDENT...   \n",
       "\n",
       "                                                    ID  \\\n",
       "0    APPLICATION PROGRAMMING INTERFACES (API); COLL...   \n",
       "1    HEURISTIC ALGORITHMS; IMMUNE SYSTEM; MULTIOBJE...   \n",
       "2    BLOCKCHAIN; COMMERCE; COMPUTATION THEORY; CONV...   \n",
       "3    COUPLINGS; MARKOV PROCESSES; NEURAL NETWORKS; ...   \n",
       "4    3D PRINTERS; ADDITIVES; ARTIFICIAL INTELLIGENC...   \n",
       "..                                                 ...   \n",
       "514  ANTI-COUNTERFEITING; MOVING SPEED; PRODUCT TAG...   \n",
       "515  EXTRACTIVE SUMMARIZATIONS; FUZZY EVOLUTIONARY ...   \n",
       "516  DECENTRALISED; DISTURBANCES; INTELLIGENT PRODU...   \n",
       "517  ENTERPRISE INFORMATION SYSTEM; INTERNET OF THI...   \n",
       "518  AUTOMATION; DATA TRANSFER; SUPPLY CHAINS; AUTO...   \n",
       "\n",
       "                                                    C1    PY  \n",
       "0    DEPARTMENT OF COMPUTER SCIENCE, AUCKLAND UNIVE...  2020  \n",
       "1    ENGINEERING RESEARCH CENTER OF DIGITIZED TEXTI...  2020  \n",
       "2    STATE KEY LABORATORY OF ALTERNATE ELECTRICAL P...  2020  \n",
       "3    SCHOOL OF AUTOMATION, GUANGDONG KEY LABORATORY...  2020  \n",
       "4    DEPARTMENT OF INFORMATION SYSTEMS AND OPERATIO...  2020  \n",
       "..                                                 ...   ...  \n",
       "514  DEPARTMENT OF INDUSTRIAL AND MANUFACTURING SYS...  2011  \n",
       "515  SCHOOL OF IOT ENGINEERING, JIANGNAN UNIVERSITY...  2011  \n",
       "516  DEPARTMENT OF BUSINESS ICT, FACULTY OF ECONOMI...  2011  \n",
       "517  DEPARTMENT OF INFORMATION TECHNOLOGY AND DECIS...  2011  \n",
       "518  COMPUTER AND AUTOMATION RESEARCH INSTITUTE, HU...  2011  \n",
       "\n",
       "[519 rows x 10 columns]"
      ]
     },
     "execution_count": 10,
     "metadata": {},
     "output_type": "execute_result"
    }
   ],
   "source": [
    "df=df.sort_values(by='PY',ascending=False)\n",
    "df=df.reset_index()\n",
    "df"
   ]
  },
  {
   "cell_type": "code",
   "execution_count": 11,
   "metadata": {},
   "outputs": [
    {
     "name": "stdout",
     "output_type": "stream",
     "text": [
      "Requirement already satisfied: pycountry in /opt/anaconda3/lib/python3.7/site-packages (19.8.18)\n",
      "Note: you may need to restart the kernel to use updated packages.\n"
     ]
    }
   ],
   "source": [
    "pip install pycountry"
   ]
  },
  {
   "cell_type": "code",
   "execution_count": 12,
   "metadata": {},
   "outputs": [],
   "source": [
    "import pycountry\n",
    "#list(pycountry.countries)"
   ]
  },
  {
   "cell_type": "code",
   "execution_count": 13,
   "metadata": {},
   "outputs": [],
   "source": [
    "name = []\n",
    "for i in list(pycountry.countries):\n",
    "    name.append(i.name)\n"
   ]
  },
  {
   "cell_type": "code",
   "execution_count": 14,
   "metadata": {},
   "outputs": [
    {
     "data": {
      "text/plain": [
       "'aruba'"
      ]
     },
     "execution_count": 14,
     "metadata": {},
     "output_type": "execute_result"
    }
   ],
   "source": [
    "name[0].lower()"
   ]
  },
  {
   "cell_type": "code",
   "execution_count": 15,
   "metadata": {},
   "outputs": [],
   "source": [
    "s=df['C1'][0].lower()"
   ]
  },
  {
   "cell_type": "code",
   "execution_count": 16,
   "metadata": {},
   "outputs": [],
   "source": [
    "def punc (s):\n",
    "    punctuations = '''!()-[]{};:'\"\\,<>./?@#$%^&*_~'''\n",
    "    for x in s: \n",
    "        if x in punctuations: \n",
    "            s = s.replace(x, \"\") \n",
    "    return s "
   ]
  },
  {
   "cell_type": "code",
   "execution_count": 17,
   "metadata": {},
   "outputs": [],
   "source": [
    "def low (doc):\n",
    "    a = punc(doc)\n",
    "    b =a.lower()\n",
    "    c = b.split()\n",
    "    return c"
   ]
  },
  {
   "cell_type": "code",
   "execution_count": 18,
   "metadata": {},
   "outputs": [],
   "source": [
    "k=['states','zealand','kingdom']\n",
    "for i in range(0,len(name)):\n",
    "    x = name[i].lower()\n",
    "    k.append(x)"
   ]
  },
  {
   "cell_type": "code",
   "execution_count": 19,
   "metadata": {},
   "outputs": [],
   "source": [
    "def fullname (strong):\n",
    "    n=[]\n",
    "    for i in  strong:\n",
    "        if i=='kingdom':\n",
    "            l='united kingdom'\n",
    "            n.append(l)\n",
    "        elif i=='states':\n",
    "            d='united states'\n",
    "            n.append(d)\n",
    "        else:\n",
    "            n.append(i)\n",
    "    return n"
   ]
  },
  {
   "cell_type": "code",
   "execution_count": 20,
   "metadata": {},
   "outputs": [],
   "source": [
    "def country (doc):\n",
    "    lcon=[]\n",
    "    for i in low(doc):\n",
    "        if i in k:\n",
    "            lcon.append(i)\n",
    "    return fullname(lcon)"
   ]
  },
  {
   "cell_type": "code",
   "execution_count": 21,
   "metadata": {},
   "outputs": [
    {
     "data": {
      "text/plain": [
       "'department'"
      ]
     },
     "execution_count": 21,
     "metadata": {},
     "output_type": "execute_result"
    }
   ],
   "source": [
    "low(df[\"C1\"][0])[0]"
   ]
  },
  {
   "cell_type": "code",
   "execution_count": 22,
   "metadata": {},
   "outputs": [
    {
     "data": {
      "text/plain": [
       "['china', 'china', 'china', 'united kingdom']"
      ]
     },
     "execution_count": 22,
     "metadata": {},
     "output_type": "execute_result"
    }
   ],
   "source": [
    "country(df[\"C1\"][1])"
   ]
  },
  {
   "cell_type": "code",
   "execution_count": 23,
   "metadata": {},
   "outputs": [],
   "source": [
    "clist=[]\n",
    "for i in df['C1']:\n",
    "    y=country(i)\n",
    "    clist.extend(y)"
   ]
  },
  {
   "cell_type": "code",
   "execution_count": 24,
   "metadata": {},
   "outputs": [],
   "source": [
    "df2020=df[df['PY']==2020]"
   ]
  },
  {
   "cell_type": "code",
   "execution_count": 25,
   "metadata": {},
   "outputs": [],
   "source": [
    "df2019=df[df['PY']==2019]\n",
    "df2018=df[df['PY']==2018]\n",
    "df2017=df[df['PY']==2017]\n",
    "df2016=df[df['PY']==2016]\n",
    "df2015=df[df['PY']==2015]\n",
    "df2014=df[df['PY']==2014]\n",
    "df2013=df[df['PY']==2013]\n",
    "df2012=df[df['PY']==2012]\n",
    "df2011=df[df['PY']==2011]"
   ]
  },
  {
   "cell_type": "code",
   "execution_count": 26,
   "metadata": {},
   "outputs": [],
   "source": [
    "cl2020 = []\n",
    "for i in df2020['C1']:\n",
    "    y=country(i)\n",
    "    cl2020.extend(y)"
   ]
  },
  {
   "cell_type": "code",
   "execution_count": 27,
   "metadata": {},
   "outputs": [
    {
     "name": "stdout",
     "output_type": "stream",
     "text": [
      "0            zealand\n",
      "1          australia\n",
      "2              china\n",
      "3              china\n",
      "4              china\n",
      "           ...      \n",
      "226    united states\n",
      "227            india\n",
      "228      switzerland\n",
      "229            india\n",
      "230            spain\n",
      "Length: 231, dtype: object\n"
     ]
    }
   ],
   "source": [
    "print(pd.Series(cl2020))"
   ]
  },
  {
   "cell_type": "code",
   "execution_count": 28,
   "metadata": {},
   "outputs": [],
   "source": [
    "def contab (df):\n",
    "    ml = []\n",
    "    for i in df[\"C1\"]:\n",
    "        y=country(i)\n",
    "        ml.extend(y)\n",
    "        ser = pd.Series(ml)\n",
    "    return pd.DataFrame({'count':ser.value_counts()})"
   ]
  },
  {
   "cell_type": "code",
   "execution_count": 29,
   "metadata": {},
   "outputs": [
    {
     "ename": "NameError",
     "evalue": "name 'h20' is not defined",
     "output_type": "error",
     "traceback": [
      "\u001b[0;31m---------------------------------------------------------------------------\u001b[0m",
      "\u001b[0;31mNameError\u001b[0m                                 Traceback (most recent call last)",
      "\u001b[0;32m<ipython-input-29-d967fc056d21>\u001b[0m in \u001b[0;36m<module>\u001b[0;34m\u001b[0m\n\u001b[0;32m----> 1\u001b[0;31m \u001b[0mh20\u001b[0m\u001b[0;34m\u001b[0m\u001b[0;34m\u001b[0m\u001b[0m\n\u001b[0m",
      "\u001b[0;31mNameError\u001b[0m: name 'h20' is not defined"
     ]
    }
   ],
   "source": [
    "h20"
   ]
  },
  {
   "cell_type": "code",
   "execution_count": 30,
   "metadata": {},
   "outputs": [
    {
     "data": {
      "image/png": "[encoded data removed]",
      "text/plain": [
       "<Figure size 1080x360 with 1 Axes>"
      ]
     },
     "metadata": {
      "needs_background": "light"
     },
     "output_type": "display_data"
    }
   ],
   "source": [
    "fig,axes=plt.subplots(1,1,figsize=(15,5))\n",
    "count_table_2020=contab(df2020)\n",
    "h20=count_table_2020.head()\n",
    "h20=h20.reset_index()\n",
    "pl=sns.barplot(x=h20['index'],y=h20['count'])\n",
    "pl.set_title('Top five most contributed countries in 2020')\n",
    "pl.set_xlabel('Countries')\n",
    "pl.set_ylabel('Number of Papers')\n",
    "plt.show()"
   ]
  },
  {
   "cell_type": "code",
   "execution_count": 31,
   "metadata": {},
   "outputs": [
    {
     "data": {
      "image/png": "[encoded data removed]",
      "text/plain": [
       "<Figure size 1080x360 with 1 Axes>"
      ]
     },
     "metadata": {
      "needs_background": "light"
     },
     "output_type": "display_data"
    }
   ],
   "source": [
    "fig,axes=plt.subplots(1,1,figsize=(15,5))\n",
    "count_table_2019=contab(df2019)\n",
    "h19=count_table_2019.head()\n",
    "h19=h19.reset_index()\n",
    "pl=sns.barplot(x=h19['index'],y=h19['count'])\n",
    "pl.set_title('Top five most contributed countries in 2019')\n",
    "pl.set_xlabel('Countries')\n",
    "pl.set_ylabel('Number of Papers')\n",
    "plt.show()"
   ]
  },
  {
   "cell_type": "code",
   "execution_count": 32,
   "metadata": {},
   "outputs": [
    {
     "name": "stderr",
     "output_type": "stream",
     "text": [
      "/opt/anaconda3/lib/python3.7/site-packages/ipykernel_launcher.py:6: DeprecationWarning: The default dtype for empty Series will be 'object' instead of 'float64' in a future version. Specify a dtype explicitly to silence this warning.\n",
      "  \n"
     ]
    },
    {
     "data": {
      "image/png": "[encoded data removed]",
      "text/plain": [
       "<Figure size 1080x360 with 1 Axes>"
      ]
     },
     "metadata": {
      "needs_background": "light"
     },
     "output_type": "display_data"
    }
   ],
   "source": [
    "fig,axes=plt.subplots(1,1,figsize=(15,5))\n",
    "count_table_2018=contab(df2018)\n",
    "h18=count_table_2018.head()\n",
    "h18=h18.reset_index()\n",
    "pl=sns.barplot(x=h18['index'],y=h18['count'])\n",
    "pl.set_title('Top five most contributed countries in 2018')\n",
    "pl.set_xlabel('Countries')\n",
    "pl.set_ylabel('Number of Papers')\n",
    "plt.show()"
   ]
  },
  {
   "cell_type": "code",
   "execution_count": 33,
   "metadata": {},
   "outputs": [
    {
     "data": {
      "image/png": "[encoded data removed]",
      "text/plain": [
       "<Figure size 1080x360 with 1 Axes>"
      ]
     },
     "metadata": {
      "needs_background": "light"
     },
     "output_type": "display_data"
    }
   ],
   "source": [
    "fig,axes=plt.subplots(1,1,figsize=(15,5))\n",
    "count_table_2017=contab(df2017)\n",
    "h17=count_table_2017.head()\n",
    "h17=h17.reset_index()\n",
    "pl=sns.barplot(x=h17['index'],y=h17['count'])\n",
    "pl.set_title('Top five most contributed countries in 2017')\n",
    "pl.set_xlabel('Countries')\n",
    "pl.set_ylabel('Number of Papers')\n",
    "plt.show()"
   ]
  },
  {
   "cell_type": "code",
   "execution_count": 34,
   "metadata": {},
   "outputs": [
    {
     "data": {
      "image/png": "[encoded data removed]",
      "text/plain": [
       "<Figure size 1080x360 with 1 Axes>"
      ]
     },
     "metadata": {
      "needs_background": "light"
     },
     "output_type": "display_data"
    }
   ],
   "source": [
    "fig,axes=plt.subplots(1,1,figsize=(15,5))\n",
    "count_table_2016=contab(df2016)\n",
    "h16=count_table_2016.head()\n",
    "h16=h16.reset_index()\n",
    "pl=sns.barplot(x=h16['index'],y=h16['count'])\n",
    "pl.set_title('Top five most contributed countries in 2016')\n",
    "pl.set_xlabel('Countries')\n",
    "pl.set_ylabel('Number of Papers')\n",
    "plt.show()"
   ]
  },
  {
   "cell_type": "code",
   "execution_count": 35,
   "metadata": {},
   "outputs": [
    {
     "data": {
      "image/png": "[encoded data removed]",
      "text/plain": [
       "<Figure size 1080x360 with 1 Axes>"
      ]
     },
     "metadata": {
      "needs_background": "light"
     },
     "output_type": "display_data"
    }
   ],
   "source": [
    "fig,axes=plt.subplots(1,1,figsize=(15,5))\n",
    "count_table_2015=contab(df2015)\n",
    "h15=count_table_2015.head()\n",
    "h15=h15.reset_index()\n",
    "pl=sns.barplot(x=h15['index'],y=h15['count'])\n",
    "pl.set_title('Top five most contributed countries in 2015')\n",
    "pl.set_xlabel('Countries')\n",
    "pl.set_ylabel('Number of Papers')\n",
    "plt.show()"
   ]
  },
  {
   "cell_type": "code",
   "execution_count": 36,
   "metadata": {},
   "outputs": [
    {
     "data": {
      "image/png": "[encoded data removed]",
      "text/plain": [
       "<Figure size 1080x360 with 1 Axes>"
      ]
     },
     "metadata": {
      "needs_background": "light"
     },
     "output_type": "display_data"
    }
   ],
   "source": [
    "fig,axes=plt.subplots(1,1,figsize=(15,5))\n",
    "count_table_2014=contab(df2014)\n",
    "h14=count_table_2014.head()\n",
    "h14=h14.reset_index()\n",
    "pl=sns.barplot(x=h14['index'],y=h14['count'])\n",
    "pl.set_title('Top five most contributed countries in 2014')\n",
    "pl.set_xlabel('Countries')\n",
    "pl.set_ylabel('Number of Papers')\n",
    "plt.show()"
   ]
  },
  {
   "cell_type": "code",
   "execution_count": 37,
   "metadata": {},
   "outputs": [
    {
     "data": {
      "image/png": "[encoded data removed]",
      "text/plain": [
       "<Figure size 720x360 with 1 Axes>"
      ]
     },
     "metadata": {
      "needs_background": "light"
     },
     "output_type": "display_data"
    }
   ],
   "source": [
    "fig,axes=plt.subplots(1,1,figsize=(10,5))\n",
    "count_table_2013=contab(df2013)\n",
    "h13=count_table_2013.head()\n",
    "h13=h13.reset_index()\n",
    "pl=sns.barplot(x=h13['index'],y=h13['count'])\n",
    "pl.set_title('The three only contributed countries in 2013')\n",
    "pl.set_xlabel('Countries')\n",
    "pl.set_ylabel('Number of Papers')\n",
    "plt.show()"
   ]
  },
  {
   "cell_type": "code",
   "execution_count": 38,
   "metadata": {},
   "outputs": [
    {
     "data": {
      "image/png": "[encoded data removed]",
      "text/plain": [
       "<Figure size 432x288 with 1 Axes>"
      ]
     },
     "metadata": {
      "needs_background": "light"
     },
     "output_type": "display_data"
    }
   ],
   "source": [
    "count_table_2012=contab(df2012)\n",
    "h12=count_table_2012.head()\n",
    "h12=h12.reset_index()\n",
    "pl=sns.barplot(x=h12['index'],y=h12['count'])\n",
    "pl.set_title('The only contributed country in 2012')\n",
    "pl.set_xlabel('Countries')\n",
    "pl.set_ylabel('Number of Papers')\n",
    "plt.show()"
   ]
  },
  {
   "cell_type": "code",
   "execution_count": 39,
   "metadata": {},
   "outputs": [
    {
     "data": {
      "image/png": "[encoded data removed]",
      "text/plain": [
       "<Figure size 1080x360 with 1 Axes>"
      ]
     },
     "metadata": {
      "needs_background": "light"
     },
     "output_type": "display_data"
    }
   ],
   "source": [
    "fig,axes=plt.subplots(1,1,figsize=(15,5))\n",
    "count_table_2011=contab(df2011)\n",
    "h11=count_table_2011.head()\n",
    "h11=h11.reset_index()\n",
    "pl=sns.barplot(x=h11['index'],y=h11['count'])\n",
    "pl.set_title('Top five most contributed countries in 2011')\n",
    "pl.set_xlabel('Countries')\n",
    "pl.set_ylabel('Number of Papers')\n",
    "plt.show()"
   ]
  },
  {
   "cell_type": "code",
   "execution_count": 40,
   "metadata": {},
   "outputs": [
    {
     "data": {
      "image/png": "[encoded data removed]",
      "text/plain": [
       "<Figure size 1080x360 with 1 Axes>"
      ]
     },
     "metadata": {
      "needs_background": "light"
     },
     "output_type": "display_data"
    }
   ],
   "source": [
    "fig,axes=plt.subplots(1,1,figsize=(15,5))\n",
    "plt.subplots\n",
    "count_table=contab(df)\n",
    "h=count_table.head()\n",
    "h=h.reset_index()\n",
    "pl=sns.barplot(x=h['index'],y=h['count'])\n",
    "pl.set_title('Top five most contributed countries overall')\n",
    "pl.set_xlabel('Countries')\n",
    "pl.set_ylabel('Number of Papers')\n",
    "plt.show()"
   ]
  },
  {
   "cell_type": "code",
   "execution_count": 41,
   "metadata": {},
   "outputs": [
    {
     "data": {
      "text/plain": [
       "AUGMENTED REALITY; HYBRID REALITY; USER EXPERIENCE OF SMART HOME; VIRTUAL REALITY; VISUALIZATION AND INTERACTION          1\n",
       "BIG DATA; CLOUD COMPUTING; INTERNET OF THINGS; MANUFACTURING CYBER-PHYSICAL SYSTEMS; SENSOR-BASED REAL-TIME MONITORING    1\n",
       "BIG DATA; CLOUD COMPUTING; E-GEOSCIENCE; E-SCIENCE; INFORMATION SHARING; INTERNET OF THINGS (IOT); NORTHEAST ASIA         1\n",
       "DATA DISSEMINATION; DECISION TREE; DELAY TOLERANT NETWORKS; GENETIC ALGORITHM; MULTI-OBJECTIVE OPTIMIZATION               1\n",
       "CPS-PARADIGM; CYBER PHYSICAL SYSTEMS; DESIGN; MECHATRONICS; MODELLING; SYSTEM CLASSIFICATION                              1\n",
       "Name: DE, dtype: int64"
      ]
     },
     "execution_count": 41,
     "metadata": {},
     "output_type": "execute_result"
    }
   ],
   "source": [
    "(df2016['DE'].value_counts()[:5])"
   ]
  },
  {
   "cell_type": "code",
   "execution_count": 42,
   "metadata": {},
   "outputs": [
    {
     "data": {
      "text/plain": [
       "ALGORITHMS; COMPUTATIONAL EFFICIENCY; COMPUTER SUPPORTED COOPERATIVE WORK; SOCIAL NETWORKING (ONLINE); SOCIAL SCIENCES COMPUTING; BETWEENNESS CENTRALITY; BUSINESS ALLIANCES; EXHAUSTIVE SEARCHING; EXPERIMENTAL SIMULATIONS; INNOVATIVE ALGORITHMS; MANUFACTURING ENTERPRISE; SERVICE ORIENTED COMPUTING; SYSTEM INTEGRATION; DISTRIBUTED COMPUTER SYSTEMS                                                      1\n",
       "DATA HANDLING; EARTH ATMOSPHERE; ENERGY EFFICIENCY; IN SITU PROCESSING; INFORMATION MANAGEMENT; INTERNET OF THINGS; REMOTE SENSING; SOCIAL NETWORKING (ONLINE); WEB DESIGN; WEB SERVICES; WIND POWER; CONTINUOUS DATA COLLECTIONS; INTERNET OF THING (IOT); LINKED DATUM; LINKED SERVICES; REMOTE SENSING INSTRUMENTS; RESOURCE DESCRIPTION FRAMEWORK; U.S. DEPARTMENT OF ENERGY; WEB OF THINGS; SEMANTIC WEB    1\n",
       "AUTOMATION; ENVIRONMENTAL REGULATIONS; ENVIRONMENTAL TECHNOLOGY; MANUFACTURE; SURVEYING; TRIANGULATION; CASE STUDY RESEARCH; CONTENT ANALYSIS; PESTEL FRAMEWORK; RESEARCH AGENDA; SYSTEMATIC LITERATURE REVIEW; CONSTRUCTION INDUSTRY                                                                                                                                                                            1\n",
       "ARTIFICIAL INTELLIGENCE; INDUSTRIAL RESEARCH; INTERNET OF THINGS; PHILOSOPHICAL ASPECTS; ALGORITHMIC BIAS; ALGORITHMIC ETHICS; ECONOMIC INEQUALITY; MULTIPLE LEVELS; ONLINE HARASSMENT; RESEARCH AGENDA; SOCIETAL PROBLEMS; SPECIAL SECTIONS; UBIQUITOUS COMPUTING                                                                                                                                               1\n",
       "CLOUD COMPUTING; CLUSTERING ALGORITHMS; COST EFFECTIVENESS; DISTRIBUTED COMPUTER SYSTEMS; INTERNET; SUSTAINABLE DEVELOPMENT; TREES (MATHEMATICS); CLUSTERING ANALYSIS; EFFICIENT OPTIMISATION; ENVIRONMENTAL POLLUTIONS; LOGISTICS OPTIMISATION; LOGISTICS PLATFORMS; REAL-TIME INFORMATION; SERVICE SYSTEMS; SMART BOX; LOGISTICS                                                                               1\n",
       "Name: ID, dtype: int64"
      ]
     },
     "execution_count": 42,
     "metadata": {},
     "output_type": "execute_result"
    }
   ],
   "source": [
    "(df2016['ID'].value_counts()[:5])"
   ]
  },
  {
   "cell_type": "code",
   "execution_count": 52,
   "metadata": {},
   "outputs": [
    {
     "data": {
      "text/html": [
       "<div>\n",
       "<style scoped>\n",
       "    .dataframe tbody tr th:only-of-type {\n",
       "        vertical-align: middle;\n",
       "    }\n",
       "\n",
       "    .dataframe tbody tr th {\n",
       "        vertical-align: top;\n",
       "    }\n",
       "\n",
       "    .dataframe thead th {\n",
       "        text-align: right;\n",
       "    }\n",
       "</style>\n",
       "<table border=\"1\" class=\"dataframe\">\n",
       "  <thead>\n",
       "    <tr style=\"text-align: right;\">\n",
       "      <th></th>\n",
       "      <th>SO</th>\n",
       "    </tr>\n",
       "  </thead>\n",
       "  <tbody>\n",
       "    <tr>\n",
       "      <th>INTERNATIONAL JOURNAL OF PRODUCTION RESEARCH</th>\n",
       "      <td>78</td>\n",
       "    </tr>\n",
       "    <tr>\n",
       "      <th>COMPUTERS IN INDUSTRY</th>\n",
       "      <td>72</td>\n",
       "    </tr>\n",
       "    <tr>\n",
       "      <th>EXPERT SYSTEMS WITH APPLICATIONS</th>\n",
       "      <td>59</td>\n",
       "    </tr>\n",
       "    <tr>\n",
       "      <th>INFORMATION SYSTEMS FRONTIERS</th>\n",
       "      <td>37</td>\n",
       "    </tr>\n",
       "    <tr>\n",
       "      <th>IEEE TRANSACTIONS ON SYSTEMS, MAN, AND CYBERNETICS: SYSTEMS</th>\n",
       "      <td>35</td>\n",
       "    </tr>\n",
       "  </tbody>\n",
       "</table>\n",
       "</div>"
      ],
      "text/plain": [
       "                                                    SO\n",
       "INTERNATIONAL JOURNAL OF PRODUCTION RESEARCH        78\n",
       "COMPUTERS IN INDUSTRY                               72\n",
       "EXPERT SYSTEMS WITH APPLICATIONS                    59\n",
       "INFORMATION SYSTEMS FRONTIERS                       37\n",
       "IEEE TRANSACTIONS ON SYSTEMS, MAN, AND CYBERNET...  35"
      ]
     },
     "execution_count": 52,
     "metadata": {},
     "output_type": "execute_result"
    }
   ],
   "source": [
    "pd.DataFrame(df['SO'].value_counts().head())"
   ]
  },
  {
   "cell_type": "code",
   "execution_count": 44,
   "metadata": {},
   "outputs": [
    {
     "data": {
      "text/html": [
       "<div>\n",
       "<style scoped>\n",
       "    .dataframe tbody tr th:only-of-type {\n",
       "        vertical-align: middle;\n",
       "    }\n",
       "\n",
       "    .dataframe tbody tr th {\n",
       "        vertical-align: top;\n",
       "    }\n",
       "\n",
       "    .dataframe thead th {\n",
       "        text-align: right;\n",
       "    }\n",
       "</style>\n",
       "<table border=\"1\" class=\"dataframe\">\n",
       "  <thead>\n",
       "    <tr style=\"text-align: right;\">\n",
       "      <th></th>\n",
       "      <th>index</th>\n",
       "      <th>count</th>\n",
       "    </tr>\n",
       "  </thead>\n",
       "  <tbody>\n",
       "    <tr>\n",
       "      <th>0</th>\n",
       "      <td>INT J PROD RES</td>\n",
       "      <td>2</td>\n",
       "    </tr>\n",
       "    <tr>\n",
       "      <th>1</th>\n",
       "      <td>COMPUT IND</td>\n",
       "      <td>2</td>\n",
       "    </tr>\n",
       "    <tr>\n",
       "      <th>2</th>\n",
       "      <td>J STRATEGIC INFORM SYST</td>\n",
       "      <td>1</td>\n",
       "    </tr>\n",
       "    <tr>\n",
       "      <th>3</th>\n",
       "      <td>EXPERT SYS APPL</td>\n",
       "      <td>1</td>\n",
       "    </tr>\n",
       "    <tr>\n",
       "      <th>4</th>\n",
       "      <td>INF. SYST. FRONT.</td>\n",
       "      <td>1</td>\n",
       "    </tr>\n",
       "  </tbody>\n",
       "</table>\n",
       "</div>"
      ],
      "text/plain": [
       "                     index  count\n",
       "0           INT J PROD RES      2\n",
       "1               COMPUT IND      2\n",
       "2  J STRATEGIC INFORM SYST      1\n",
       "3          EXPERT SYS APPL      1\n",
       "4        INF. SYST. FRONT.      1"
      ]
     },
     "execution_count": 44,
     "metadata": {},
     "output_type": "execute_result"
    }
   ],
   "source": [
    "dfso=pd.DataFrame({'count':df2011['JI'].value_counts()})\n",
    "dfso=dfso.reset_index()\n",
    "dfso"
   ]
  },
  {
   "cell_type": "code",
   "execution_count": 45,
   "metadata": {},
   "outputs": [],
   "source": [
    "\n",
    "#dfso['year']=[2020,2019,2018,2017,2016,2015,2014,2013,2012,2011]"
   ]
  },
  {
   "cell_type": "code",
   "execution_count": 46,
   "metadata": {},
   "outputs": [
    {
     "name": "stderr",
     "output_type": "stream",
     "text": [
      "/opt/anaconda3/lib/python3.7/site-packages/ipykernel_launcher.py:2: SettingWithCopyWarning: \n",
      "A value is trying to be set on a copy of a slice from a DataFrame.\n",
      "Try using .loc[row_indexer,col_indexer] = value instead\n",
      "\n",
      "See the caveats in the documentation: https://pandas.pydata.org/pandas-docs/stable/user_guide/indexing.html#returning-a-view-versus-a-copy\n",
      "  \n"
     ]
    }
   ],
   "source": [
    "d11=dfso[dfso['index']=='INT J PROD RES']\n",
    "d11['year']=[2011]"
   ]
  },
  {
   "cell_type": "code",
   "execution_count": 47,
   "metadata": {},
   "outputs": [
    {
     "ename": "NameError",
     "evalue": "name 'd20' is not defined",
     "output_type": "error",
     "traceback": [
      "\u001b[0;31m---------------------------------------------------------------------------\u001b[0m",
      "\u001b[0;31mNameError\u001b[0m                                 Traceback (most recent call last)",
      "\u001b[0;32m<ipython-input-47-17034e45fb05>\u001b[0m in \u001b[0;36m<module>\u001b[0;34m\u001b[0m\n\u001b[0;32m----> 1\u001b[0;31m \u001b[0md20\u001b[0m\u001b[0;34m\u001b[0m\u001b[0;34m\u001b[0m\u001b[0m\n\u001b[0m",
      "\u001b[0;31mNameError\u001b[0m: name 'd20' is not defined"
     ]
    }
   ],
   "source": [
    "d20"
   ]
  },
  {
   "cell_type": "code",
   "execution_count": 48,
   "metadata": {},
   "outputs": [
    {
     "ename": "NameError",
     "evalue": "name 'd19' is not defined",
     "output_type": "error",
     "traceback": [
      "\u001b[0;31m---------------------------------------------------------------------------\u001b[0m",
      "\u001b[0;31mNameError\u001b[0m                                 Traceback (most recent call last)",
      "\u001b[0;32m<ipython-input-48-c51944950666>\u001b[0m in \u001b[0;36m<module>\u001b[0;34m\u001b[0m\n\u001b[0;32m----> 1\u001b[0;31m \u001b[0md19\u001b[0m\u001b[0;34m\u001b[0m\u001b[0;34m\u001b[0m\u001b[0m\n\u001b[0m",
      "\u001b[0;31mNameError\u001b[0m: name 'd19' is not defined"
     ]
    }
   ],
   "source": [
    "d19"
   ]
  },
  {
   "cell_type": "code",
   "execution_count": 49,
   "metadata": {},
   "outputs": [
    {
     "ename": "NameError",
     "evalue": "name 'd17' is not defined",
     "output_type": "error",
     "traceback": [
      "\u001b[0;31m---------------------------------------------------------------------------\u001b[0m",
      "\u001b[0;31mNameError\u001b[0m                                 Traceback (most recent call last)",
      "\u001b[0;32m<ipython-input-49-9262c4f714be>\u001b[0m in \u001b[0;36m<module>\u001b[0;34m\u001b[0m\n\u001b[0;32m----> 1\u001b[0;31m \u001b[0md17\u001b[0m\u001b[0;34m\u001b[0m\u001b[0;34m\u001b[0m\u001b[0m\n\u001b[0m",
      "\u001b[0;31mNameError\u001b[0m: name 'd17' is not defined"
     ]
    }
   ],
   "source": [
    "d17"
   ]
  },
  {
   "cell_type": "code",
   "execution_count": 50,
   "metadata": {},
   "outputs": [
    {
     "ename": "NameError",
     "evalue": "name 'd16' is not defined",
     "output_type": "error",
     "traceback": [
      "\u001b[0;31m---------------------------------------------------------------------------\u001b[0m",
      "\u001b[0;31mNameError\u001b[0m                                 Traceback (most recent call last)",
      "\u001b[0;32m<ipython-input-50-5ea72669e16b>\u001b[0m in \u001b[0;36m<module>\u001b[0;34m\u001b[0m\n\u001b[0;32m----> 1\u001b[0;31m \u001b[0md16\u001b[0m\u001b[0;34m\u001b[0m\u001b[0;34m\u001b[0m\u001b[0m\n\u001b[0m",
      "\u001b[0;31mNameError\u001b[0m: name 'd16' is not defined"
     ]
    }
   ],
   "source": [
    "d16"
   ]
  },
  {
   "cell_type": "code",
   "execution_count": 51,
   "metadata": {},
   "outputs": [
    {
     "ename": "NameError",
     "evalue": "name 'd15' is not defined",
     "output_type": "error",
     "traceback": [
      "\u001b[0;31m---------------------------------------------------------------------------\u001b[0m",
      "\u001b[0;31mNameError\u001b[0m                                 Traceback (most recent call last)",
      "\u001b[0;32m<ipython-input-51-67688b01bf16>\u001b[0m in \u001b[0;36m<module>\u001b[0;34m\u001b[0m\n\u001b[0;32m----> 1\u001b[0;31m \u001b[0md15\u001b[0m\u001b[0;34m=\u001b[0m\u001b[0md15\u001b[0m\u001b[0;34m.\u001b[0m\u001b[0mfillna\u001b[0m\u001b[0;34m(\u001b[0m\u001b[0;36m0\u001b[0m\u001b[0;34m)\u001b[0m\u001b[0;34m\u001b[0m\u001b[0;34m\u001b[0m\u001b[0m\n\u001b[0m\u001b[1;32m      2\u001b[0m \u001b[0md15\u001b[0m\u001b[0;34m[\u001b[0m\u001b[0;34m'year'\u001b[0m\u001b[0;34m]\u001b[0m\u001b[0;34m=\u001b[0m\u001b[0;34m[\u001b[0m\u001b[0;36m2015\u001b[0m\u001b[0;34m]\u001b[0m\u001b[0;34m\u001b[0m\u001b[0;34m\u001b[0m\u001b[0m\n\u001b[1;32m      3\u001b[0m \u001b[0md15\u001b[0m\u001b[0;34m\u001b[0m\u001b[0;34m\u001b[0m\u001b[0m\n",
      "\u001b[0;31mNameError\u001b[0m: name 'd15' is not defined"
     ]
    }
   ],
   "source": [
    "d15=d15.fillna(0)\n",
    "d15['year']=[2015]\n",
    "d15"
   ]
  },
  {
   "cell_type": "code",
   "execution_count": null,
   "metadata": {},
   "outputs": [],
   "source": [
    "d14"
   ]
  },
  {
   "cell_type": "code",
   "execution_count": null,
   "metadata": {},
   "outputs": [],
   "source": [
    "d13=d15\n",
    "d13['year']=[2013]\n",
    "d13"
   ]
  },
  {
   "cell_type": "code",
   "execution_count": null,
   "metadata": {},
   "outputs": [],
   "source": [
    "d12=d15\n",
    "d12['year']=[2012]\n",
    "d12"
   ]
  },
  {
   "cell_type": "code",
   "execution_count": null,
   "metadata": {},
   "outputs": [],
   "source": [
    "d11"
   ]
  },
  {
   "cell_type": "code",
   "execution_count": null,
   "metadata": {},
   "outputs": [],
   "source": []
  },
  {
   "cell_type": "code",
   "execution_count": null,
   "metadata": {},
   "outputs": [],
   "source": []
  },
  {
   "cell_type": "code",
   "execution_count": null,
   "metadata": {},
   "outputs": [],
   "source": [
    "d=pd.concat([d20,d19,d18,d17,d16,d15,d14,d13,d12,d11],axis=0)\n",
    "d.reset_index()\n",
    "d"
   ]
  },
  {
   "cell_type": "code",
   "execution_count": null,
   "metadata": {},
   "outputs": [],
   "source": [
    "#dfint=d[d[['count','year']]]\n",
    "dfint=d[['count','year']]\n",
    "dfint"
   ]
  },
  {
   "cell_type": "code",
   "execution_count": null,
   "metadata": {},
   "outputs": [],
   "source": [
    "dfint['year']=['2020', '2019', '2018', '2017', '2016', '2015', '2014', '2013', '2012', '2011']"
   ]
  },
  {
   "cell_type": "code",
   "execution_count": null,
   "metadata": {},
   "outputs": [],
   "source": []
  },
  {
   "cell_type": "code",
   "execution_count": null,
   "metadata": {},
   "outputs": [],
   "source": [
    "#dfint\n",
    "fig,axes=plt.subplots(1,1,figsize=(15,5))\n",
    "pl=sns.pointplot(x=dfint['year'],y=dfint['count'])\n",
    "pl.set_title('Papers in INTERNATIONAL JOURNAL OF PRODUCTION RESEARCH over the years')\n",
    "pl.set_xlabel('Years')\n",
    "pl.set_ylabel('Number of Papers')\n",
    "plt.show()"
   ]
  },
  {
   "cell_type": "code",
   "execution_count": null,
   "metadata": {},
   "outputs": [],
   "source": [
    "top_10_fos = dfso['index']\n",
    "top_10_fos"
   ]
  },
  {
   "cell_type": "code",
   "execution_count": null,
   "metadata": {},
   "outputs": [],
   "source": []
  },
  {
   "cell_type": "code",
   "execution_count": null,
   "metadata": {},
   "outputs": [],
   "source": [
    "fig,axes=plt.subplots(1,1,figsize=(15,5))\n",
    "pl=sns.barplot(x=dfso2020['index'],y=dfso2020['count'])\n",
    "pl.set_xticklabels(pl.get_xticklabels(),rotation=90)\n",
    "plt.show()"
   ]
  },
  {
   "cell_type": "code",
   "execution_count": null,
   "metadata": {},
   "outputs": [],
   "source": [
    "dit = df[df['SO']=='IEEE TRANSACTIONS ON SYSTEMS, MAN, AND CYBERNETICS: SYSTEMS']"
   ]
  },
  {
   "cell_type": "code",
   "execution_count": null,
   "metadata": {},
   "outputs": [],
   "source": [
    "dc20=dit[dit['PY']==2011]\n",
    "nos11 = dc20['SO'].count()"
   ]
  },
  {
   "cell_type": "code",
   "execution_count": null,
   "metadata": {},
   "outputs": [],
   "source": [
    "nos20"
   ]
  },
  {
   "cell_type": "code",
   "execution_count": null,
   "metadata": {},
   "outputs": [],
   "source": [
    "nos19"
   ]
  },
  {
   "cell_type": "code",
   "execution_count": null,
   "metadata": {},
   "outputs": [],
   "source": [
    "nos18"
   ]
  },
  {
   "cell_type": "code",
   "execution_count": null,
   "metadata": {},
   "outputs": [],
   "source": [
    "nos17"
   ]
  },
  {
   "cell_type": "code",
   "execution_count": null,
   "metadata": {},
   "outputs": [],
   "source": [
    "nos16"
   ]
  },
  {
   "cell_type": "code",
   "execution_count": null,
   "metadata": {},
   "outputs": [],
   "source": [
    "nos15"
   ]
  },
  {
   "cell_type": "code",
   "execution_count": null,
   "metadata": {},
   "outputs": [],
   "source": [
    "nos14"
   ]
  },
  {
   "cell_type": "code",
   "execution_count": null,
   "metadata": {},
   "outputs": [],
   "source": [
    "nos13"
   ]
  },
  {
   "cell_type": "code",
   "execution_count": null,
   "metadata": {},
   "outputs": [],
   "source": [
    "nos12"
   ]
  },
  {
   "cell_type": "code",
   "execution_count": null,
   "metadata": {},
   "outputs": [],
   "source": [
    "nos11"
   ]
  },
  {
   "cell_type": "code",
   "execution_count": null,
   "metadata": {},
   "outputs": [],
   "source": [
    "lit = [nos20,nos19,nos18,nos17,nos16,nos15,nos14,nos13,nos12,nos11]"
   ]
  },
  {
   "cell_type": "code",
   "execution_count": null,
   "metadata": {},
   "outputs": [],
   "source": [
    "lyear=['2020', '2019', '2018', '2017', '2016', '2015', '2014', '2013', '2012', '2011']\n",
    "lyear"
   ]
  },
  {
   "cell_type": "code",
   "execution_count": null,
   "metadata": {},
   "outputs": [],
   "source": [
    "dfit=pd.DataFrame({'Number of Papers':lit,'Year':lyear})"
   ]
  },
  {
   "cell_type": "code",
   "execution_count": null,
   "metadata": {},
   "outputs": [],
   "source": [
    "dfit"
   ]
  },
  {
   "cell_type": "code",
   "execution_count": null,
   "metadata": {},
   "outputs": [],
   "source": [
    "fig,axes=plt.subplots(1,1,figsize=(15,5))\n",
    "pl=sns.pointplot(x=dfit['Year'],y=dfit['Number of Papers'])\n",
    "pl.set_title('Papers in IEEE TRANSACTIONS ON SYSTEMS, MAN, AND CYBERNETICS: SYSTEMS over the years')\n",
    "pl.set_xlabel('Year')\n",
    "pl.set_ylabel('Number of Papers')\n",
    "plt.show()"
   ]
  },
  {
   "cell_type": "code",
   "execution_count": null,
   "metadata": {},
   "outputs": [],
   "source": [
    "h11"
   ]
  },
  {
   "cell_type": "code",
   "execution_count": null,
   "metadata": {},
   "outputs": [],
   "source": []
  }
 ],
 "metadata": {
  "kernelspec": {
   "display_name": "Python 3",
   "language": "python",
   "name": "python3"
  },
  "language_info": {
   "codemirror_mode": {
    "name": "ipython",
    "version": 3
   },
   "file_extension": ".py",
   "mimetype": "text/x-python",
   "name": "python",
   "nbconvert_exporter": "python",
   "pygments_lexer": "ipython3",
   "version": "3.7.7"
  }
 },
 "nbformat": 4,
 "nbformat_minor": 4
}
